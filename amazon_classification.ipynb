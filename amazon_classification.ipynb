{
  "cells": [
    {
      "cell_type": "markdown",
      "metadata": {
        "id": "view-in-github",
        "colab_type": "text"
      },
      "source": [
        "<a href=\"https://colab.research.google.com/github/Sedowlas/Cat-Boost/blob/main/amazon_classification.ipynb\" target=\"_parent\"><img src=\"https://colab.research.google.com/assets/colab-badge.svg\" alt=\"Open In Colab\"/></a>"
      ]
    },
    {
      "cell_type": "markdown",
      "metadata": {
        "id": "-AzFbDXI8knT"
      },
      "source": [
        "Экшен--ДЕЙСТВИЕ равно 1, если ресурс был одобрен, 0, если ресурс не был одобрен  \n",
        "РЕСУРС--Идентификатор для каждого ресурса  \n",
        "MGR_ID--Идентификатор сотрудника менеджера текущей записи идентификатора СОТРУДНИКА; у сотрудника может быть только один менеджер одновременно  \n",
        "ROLE_ROLLUP_1--Группа ролей компании идентификатор категории 1 (например, US Engineering)  \n",
        "ROLE_ROLLUP_2--Группа ролей компании идентификатор категории 2 (например, розничная торговля в США)  \n",
        "ROLE_DEPTNAME--Описание роли отдела компании (например, Розничная торговля)  \n",
        "ROLE_TITLE--Роль компании Описание названия бизнеса (например, старший инженер-менеджер по розничной торговле)  \n",
        "ROLE_FAMILY_DESC--Семейство ролей компании расширенное описание (например, менеджер розничной торговли, разработка программного обеспечения)  \n",
        "ROLE_FAMILY--Описание семьи ролей компании (например, менеджер по розничной торговле)  \n",
        "ROLE_CODE--Код роли компании; этот код уникален для каждой роли (например, менеджер)  "
      ]
    },
    {
      "cell_type": "markdown",
      "metadata": {
        "id": "05muYA6l3Jbf"
      },
      "source": [
        "https://drive.google.com/file/d/1alZ6cB0Pi7tP6Y-FYv4_fIff7MBb-gUR/view?usp=sharing"
      ]
    },
    {
      "cell_type": "markdown",
      "metadata": {
        "id": "dUkWKBEaAYYA"
      },
      "source": [
        "#Загрузка данных"
      ]
    },
    {
      "cell_type": "code",
      "execution_count": null,
      "metadata": {
        "colab": {
          "base_uri": "https://localhost:8080/"
        },
        "id": "sTX7KTHt3d3J",
        "outputId": "b4143341-41b5-44a5-973e-cfa2d4aeee61"
      },
      "outputs": [
        {
          "output_type": "stream",
          "name": "stdout",
          "text": [
            "Downloading...\n",
            "From: https://drive.google.com/uc?id=1alZ6cB0Pi7tP6Y-FYv4_fIff7MBb-gUR\n",
            "To: /content/amazon-employee-access-challenge.zip.classification.zip\n",
            "\r  0% 0.00/1.61M [00:00<?, ?B/s]\r100% 1.61M/1.61M [00:00<00:00, 86.3MB/s]\n"
          ]
        }
      ],
      "source": [
        "! gdown 1alZ6cB0Pi7tP6Y-FYv4_fIff7MBb-gUR"
      ]
    },
    {
      "cell_type": "code",
      "execution_count": null,
      "metadata": {
        "colab": {
          "base_uri": "https://localhost:8080/"
        },
        "id": "ZTTJlcwb3wyt",
        "outputId": "41058743-7767-4c1b-8252-52786664a601"
      },
      "outputs": [
        {
          "output_type": "stream",
          "name": "stdout",
          "text": [
            "Archive:  /content/amazon-employee-access-challenge.zip.classification.zip\n",
            "  inflating: sampleSubmission.csv    \n",
            "  inflating: test.csv                \n",
            "  inflating: train.csv               \n"
          ]
        }
      ],
      "source": [
        "! unzip '/content/amazon-employee-access-challenge.zip.classification.zip'"
      ]
    },
    {
      "cell_type": "markdown",
      "metadata": {
        "id": "DKnpZR4KAdnO"
      },
      "source": [
        "#Предобработка"
      ]
    },
    {
      "cell_type": "code",
      "execution_count": null,
      "metadata": {
        "id": "jpMfop0Z3PE7"
      },
      "outputs": [],
      "source": [
        "import pandas as pd"
      ]
    },
    {
      "cell_type": "code",
      "execution_count": null,
      "metadata": {
        "id": "JQZqsiAS3Yd1"
      },
      "outputs": [],
      "source": [
        "df = pd.read_csv('/content/train.csv')"
      ]
    },
    {
      "cell_type": "code",
      "execution_count": null,
      "metadata": {
        "colab": {
          "base_uri": "https://localhost:8080/",
          "height": 206
        },
        "id": "yBQGUmwh4P3l",
        "outputId": "d5103caa-f25f-48fc-a934-55a6c2aa8801"
      },
      "outputs": [
        {
          "output_type": "execute_result",
          "data": {
            "text/plain": [
              "   ACTION  RESOURCE  MGR_ID  ROLE_ROLLUP_1  ROLE_ROLLUP_2  ROLE_DEPTNAME  \\\n",
              "0       1     39353   85475         117961         118300         123472   \n",
              "1       1     17183    1540         117961         118343         123125   \n",
              "2       1     36724   14457         118219         118220         117884   \n",
              "3       1     36135    5396         117961         118343         119993   \n",
              "4       1     42680    5905         117929         117930         119569   \n",
              "\n",
              "   ROLE_TITLE  ROLE_FAMILY_DESC  ROLE_FAMILY  ROLE_CODE  \n",
              "0      117905            117906       290919     117908  \n",
              "1      118536            118536       308574     118539  \n",
              "2      117879            267952        19721     117880  \n",
              "3      118321            240983       290919     118322  \n",
              "4      119323            123932        19793     119325  "
            ],
            "text/html": [
              "\n",
              "  <div id=\"df-a0e1bad3-3d1f-4556-ada4-e0a77b23ce0d\">\n",
              "    <div class=\"colab-df-container\">\n",
              "      <div>\n",
              "<style scoped>\n",
              "    .dataframe tbody tr th:only-of-type {\n",
              "        vertical-align: middle;\n",
              "    }\n",
              "\n",
              "    .dataframe tbody tr th {\n",
              "        vertical-align: top;\n",
              "    }\n",
              "\n",
              "    .dataframe thead th {\n",
              "        text-align: right;\n",
              "    }\n",
              "</style>\n",
              "<table border=\"1\" class=\"dataframe\">\n",
              "  <thead>\n",
              "    <tr style=\"text-align: right;\">\n",
              "      <th></th>\n",
              "      <th>ACTION</th>\n",
              "      <th>RESOURCE</th>\n",
              "      <th>MGR_ID</th>\n",
              "      <th>ROLE_ROLLUP_1</th>\n",
              "      <th>ROLE_ROLLUP_2</th>\n",
              "      <th>ROLE_DEPTNAME</th>\n",
              "      <th>ROLE_TITLE</th>\n",
              "      <th>ROLE_FAMILY_DESC</th>\n",
              "      <th>ROLE_FAMILY</th>\n",
              "      <th>ROLE_CODE</th>\n",
              "    </tr>\n",
              "  </thead>\n",
              "  <tbody>\n",
              "    <tr>\n",
              "      <th>0</th>\n",
              "      <td>1</td>\n",
              "      <td>39353</td>\n",
              "      <td>85475</td>\n",
              "      <td>117961</td>\n",
              "      <td>118300</td>\n",
              "      <td>123472</td>\n",
              "      <td>117905</td>\n",
              "      <td>117906</td>\n",
              "      <td>290919</td>\n",
              "      <td>117908</td>\n",
              "    </tr>\n",
              "    <tr>\n",
              "      <th>1</th>\n",
              "      <td>1</td>\n",
              "      <td>17183</td>\n",
              "      <td>1540</td>\n",
              "      <td>117961</td>\n",
              "      <td>118343</td>\n",
              "      <td>123125</td>\n",
              "      <td>118536</td>\n",
              "      <td>118536</td>\n",
              "      <td>308574</td>\n",
              "      <td>118539</td>\n",
              "    </tr>\n",
              "    <tr>\n",
              "      <th>2</th>\n",
              "      <td>1</td>\n",
              "      <td>36724</td>\n",
              "      <td>14457</td>\n",
              "      <td>118219</td>\n",
              "      <td>118220</td>\n",
              "      <td>117884</td>\n",
              "      <td>117879</td>\n",
              "      <td>267952</td>\n",
              "      <td>19721</td>\n",
              "      <td>117880</td>\n",
              "    </tr>\n",
              "    <tr>\n",
              "      <th>3</th>\n",
              "      <td>1</td>\n",
              "      <td>36135</td>\n",
              "      <td>5396</td>\n",
              "      <td>117961</td>\n",
              "      <td>118343</td>\n",
              "      <td>119993</td>\n",
              "      <td>118321</td>\n",
              "      <td>240983</td>\n",
              "      <td>290919</td>\n",
              "      <td>118322</td>\n",
              "    </tr>\n",
              "    <tr>\n",
              "      <th>4</th>\n",
              "      <td>1</td>\n",
              "      <td>42680</td>\n",
              "      <td>5905</td>\n",
              "      <td>117929</td>\n",
              "      <td>117930</td>\n",
              "      <td>119569</td>\n",
              "      <td>119323</td>\n",
              "      <td>123932</td>\n",
              "      <td>19793</td>\n",
              "      <td>119325</td>\n",
              "    </tr>\n",
              "  </tbody>\n",
              "</table>\n",
              "</div>\n",
              "      <button class=\"colab-df-convert\" onclick=\"convertToInteractive('df-a0e1bad3-3d1f-4556-ada4-e0a77b23ce0d')\"\n",
              "              title=\"Convert this dataframe to an interactive table.\"\n",
              "              style=\"display:none;\">\n",
              "        \n",
              "  <svg xmlns=\"http://www.w3.org/2000/svg\" height=\"24px\"viewBox=\"0 0 24 24\"\n",
              "       width=\"24px\">\n",
              "    <path d=\"M0 0h24v24H0V0z\" fill=\"none\"/>\n",
              "    <path d=\"M18.56 5.44l.94 2.06.94-2.06 2.06-.94-2.06-.94-.94-2.06-.94 2.06-2.06.94zm-11 1L8.5 8.5l.94-2.06 2.06-.94-2.06-.94L8.5 2.5l-.94 2.06-2.06.94zm10 10l.94 2.06.94-2.06 2.06-.94-2.06-.94-.94-2.06-.94 2.06-2.06.94z\"/><path d=\"M17.41 7.96l-1.37-1.37c-.4-.4-.92-.59-1.43-.59-.52 0-1.04.2-1.43.59L10.3 9.45l-7.72 7.72c-.78.78-.78 2.05 0 2.83L4 21.41c.39.39.9.59 1.41.59.51 0 1.02-.2 1.41-.59l7.78-7.78 2.81-2.81c.8-.78.8-2.07 0-2.86zM5.41 20L4 18.59l7.72-7.72 1.47 1.35L5.41 20z\"/>\n",
              "  </svg>\n",
              "      </button>\n",
              "      \n",
              "  <style>\n",
              "    .colab-df-container {\n",
              "      display:flex;\n",
              "      flex-wrap:wrap;\n",
              "      gap: 12px;\n",
              "    }\n",
              "\n",
              "    .colab-df-convert {\n",
              "      background-color: #E8F0FE;\n",
              "      border: none;\n",
              "      border-radius: 50%;\n",
              "      cursor: pointer;\n",
              "      display: none;\n",
              "      fill: #1967D2;\n",
              "      height: 32px;\n",
              "      padding: 0 0 0 0;\n",
              "      width: 32px;\n",
              "    }\n",
              "\n",
              "    .colab-df-convert:hover {\n",
              "      background-color: #E2EBFA;\n",
              "      box-shadow: 0px 1px 2px rgba(60, 64, 67, 0.3), 0px 1px 3px 1px rgba(60, 64, 67, 0.15);\n",
              "      fill: #174EA6;\n",
              "    }\n",
              "\n",
              "    [theme=dark] .colab-df-convert {\n",
              "      background-color: #3B4455;\n",
              "      fill: #D2E3FC;\n",
              "    }\n",
              "\n",
              "    [theme=dark] .colab-df-convert:hover {\n",
              "      background-color: #434B5C;\n",
              "      box-shadow: 0px 1px 3px 1px rgba(0, 0, 0, 0.15);\n",
              "      filter: drop-shadow(0px 1px 2px rgba(0, 0, 0, 0.3));\n",
              "      fill: #FFFFFF;\n",
              "    }\n",
              "  </style>\n",
              "\n",
              "      <script>\n",
              "        const buttonEl =\n",
              "          document.querySelector('#df-a0e1bad3-3d1f-4556-ada4-e0a77b23ce0d button.colab-df-convert');\n",
              "        buttonEl.style.display =\n",
              "          google.colab.kernel.accessAllowed ? 'block' : 'none';\n",
              "\n",
              "        async function convertToInteractive(key) {\n",
              "          const element = document.querySelector('#df-a0e1bad3-3d1f-4556-ada4-e0a77b23ce0d');\n",
              "          const dataTable =\n",
              "            await google.colab.kernel.invokeFunction('convertToInteractive',\n",
              "                                                     [key], {});\n",
              "          if (!dataTable) return;\n",
              "\n",
              "          const docLinkHtml = 'Like what you see? Visit the ' +\n",
              "            '<a target=\"_blank\" href=https://colab.research.google.com/notebooks/data_table.ipynb>data table notebook</a>'\n",
              "            + ' to learn more about interactive tables.';\n",
              "          element.innerHTML = '';\n",
              "          dataTable['output_type'] = 'display_data';\n",
              "          await google.colab.output.renderOutput(dataTable, element);\n",
              "          const docLink = document.createElement('div');\n",
              "          docLink.innerHTML = docLinkHtml;\n",
              "          element.appendChild(docLink);\n",
              "        }\n",
              "      </script>\n",
              "    </div>\n",
              "  </div>\n",
              "  "
            ]
          },
          "metadata": {},
          "execution_count": 5
        }
      ],
      "source": [
        "df.head()"
      ]
    },
    {
      "cell_type": "code",
      "execution_count": null,
      "metadata": {
        "colab": {
          "base_uri": "https://localhost:8080/"
        },
        "id": "XEZctfjL4Tdl",
        "outputId": "40b998c7-4afc-47e7-c877-e1ed573110d6"
      },
      "outputs": [
        {
          "output_type": "execute_result",
          "data": {
            "text/plain": [
              "32769"
            ]
          },
          "metadata": {},
          "execution_count": 6
        }
      ],
      "source": [
        "len(df)"
      ]
    },
    {
      "cell_type": "code",
      "execution_count": null,
      "metadata": {
        "id": "eQ75NWlp6t3e"
      },
      "outputs": [],
      "source": [
        "df.columns = df.columns.str.lower()"
      ]
    },
    {
      "cell_type": "code",
      "execution_count": null,
      "metadata": {
        "colab": {
          "base_uri": "https://localhost:8080/"
        },
        "id": "dXaIbs6h_b3S",
        "outputId": "afa1a8b2-acc8-4f0d-d98a-aeec82fa5779"
      },
      "outputs": [
        {
          "output_type": "execute_result",
          "data": {
            "text/plain": [
              "action              0.0\n",
              "resource            0.0\n",
              "mgr_id              0.0\n",
              "role_rollup_1       0.0\n",
              "role_rollup_2       0.0\n",
              "role_deptname       0.0\n",
              "role_title          0.0\n",
              "role_family_desc    0.0\n",
              "role_family         0.0\n",
              "role_code           0.0\n",
              "dtype: float64"
            ]
          },
          "metadata": {},
          "execution_count": 8
        }
      ],
      "source": [
        "df.isna().mean()"
      ]
    },
    {
      "cell_type": "code",
      "execution_count": null,
      "metadata": {
        "colab": {
          "base_uri": "https://localhost:8080/"
        },
        "id": "0tn1ZOyUDAWQ",
        "outputId": "8f6b0e8f-3bd9-4365-8c4f-9c5fc37eb5af"
      },
      "outputs": [
        {
          "output_type": "execute_result",
          "data": {
            "text/plain": [
              "1    30872\n",
              "0     1897\n",
              "Name: action, dtype: int64"
            ]
          },
          "metadata": {},
          "execution_count": 9
        }
      ],
      "source": [
        "df['action'].value_counts()"
      ]
    },
    {
      "cell_type": "markdown",
      "metadata": {
        "id": "3Gr153nV_ixE"
      },
      "source": [
        "#Разбивка данных на train, val и test"
      ]
    },
    {
      "cell_type": "code",
      "execution_count": null,
      "metadata": {
        "id": "ZVKWDXi7nCzX"
      },
      "outputs": [],
      "source": [
        "from sklearn.model_selection import train_test_split"
      ]
    },
    {
      "cell_type": "code",
      "execution_count": null,
      "metadata": {
        "id": "dqPPX1HOqROI"
      },
      "outputs": [],
      "source": [
        "train, test = train_test_split(df,train_size=0.6,random_state=42,stratify=df['action'])"
      ]
    },
    {
      "cell_type": "code",
      "execution_count": null,
      "metadata": {
        "id": "qJMAgflu-L7X"
      },
      "outputs": [],
      "source": [
        "val, test = train_test_split(test,train_size=0.5,random_state=42,stratify=test['action'])"
      ]
    },
    {
      "cell_type": "code",
      "execution_count": null,
      "metadata": {
        "colab": {
          "base_uri": "https://localhost:8080/"
        },
        "id": "OPG6Yd6TDeWt",
        "outputId": "b8cc25c1-9856-43fe-a516-dd4ef3666388"
      },
      "outputs": [
        {
          "output_type": "execute_result",
          "data": {
            "text/plain": [
              "0.9421189156197548"
            ]
          },
          "metadata": {},
          "execution_count": 13
        }
      ],
      "source": [
        "train['action'].mean()"
      ]
    },
    {
      "cell_type": "code",
      "execution_count": null,
      "metadata": {
        "colab": {
          "base_uri": "https://localhost:8080/"
        },
        "id": "1jBbeaXRDkPL",
        "outputId": "42c3e2b6-5587-46d1-c5b4-f386b565fff1"
      },
      "outputs": [
        {
          "output_type": "execute_result",
          "data": {
            "text/plain": [
              "0.9421727189502593"
            ]
          },
          "metadata": {},
          "execution_count": 14
        }
      ],
      "source": [
        "val['action'].mean()"
      ]
    },
    {
      "cell_type": "code",
      "execution_count": null,
      "metadata": {
        "colab": {
          "base_uri": "https://localhost:8080/"
        },
        "id": "OQIMQ8cLDoc3",
        "outputId": "27e45b65-3ba5-4d2f-e0ac-eea10a4dfbaf"
      },
      "outputs": [
        {
          "output_type": "execute_result",
          "data": {
            "text/plain": [
              "0.9420201403722918"
            ]
          },
          "metadata": {},
          "execution_count": 15
        }
      ],
      "source": [
        "test['action'].mean()"
      ]
    },
    {
      "cell_type": "markdown",
      "metadata": {
        "id": "0U6Urv9hGUoM"
      },
      "source": [
        "#Phik"
      ]
    },
    {
      "cell_type": "code",
      "execution_count": null,
      "metadata": {
        "id": "2dexWQEvIPkg"
      },
      "outputs": [],
      "source": [
        "train_full = pd.concat([train,val])"
      ]
    },
    {
      "cell_type": "code",
      "execution_count": null,
      "metadata": {
        "colab": {
          "base_uri": "https://localhost:8080/",
          "height": 574
        },
        "id": "R1dcI8cQivHK",
        "outputId": "adc07dc7-090b-496e-9055-a7f902eab6fb"
      },
      "outputs": [
        {
          "output_type": "stream",
          "name": "stdout",
          "text": [
            "Looking in indexes: https://pypi.org/simple, https://us-python.pkg.dev/colab-wheels/public/simple/\n",
            "Collecting phik\n",
            "  Downloading phik-0.12.2-cp37-cp37m-manylinux_2_17_x86_64.manylinux2014_x86_64.whl (690 kB)\n",
            "\u001b[K     |████████████████████████████████| 690 kB 4.3 MB/s \n",
            "\u001b[?25hRequirement already satisfied: pandas>=0.25.1 in /usr/local/lib/python3.7/dist-packages (from phik) (1.3.5)\n",
            "Requirement already satisfied: matplotlib>=2.2.3 in /usr/local/lib/python3.7/dist-packages (from phik) (3.2.2)\n",
            "Collecting scipy>=1.5.2\n",
            "  Downloading scipy-1.7.3-cp37-cp37m-manylinux_2_12_x86_64.manylinux2010_x86_64.whl (38.1 MB)\n",
            "\u001b[K     |████████████████████████████████| 38.1 MB 1.2 MB/s \n",
            "\u001b[?25hRequirement already satisfied: numpy>=1.18.0 in /usr/local/lib/python3.7/dist-packages (from phik) (1.21.6)\n",
            "Requirement already satisfied: joblib>=0.14.1 in /usr/local/lib/python3.7/dist-packages (from phik) (1.1.0)\n",
            "Requirement already satisfied: python-dateutil>=2.1 in /usr/local/lib/python3.7/dist-packages (from matplotlib>=2.2.3->phik) (2.8.2)\n",
            "Requirement already satisfied: pyparsing!=2.0.4,!=2.1.2,!=2.1.6,>=2.0.1 in /usr/local/lib/python3.7/dist-packages (from matplotlib>=2.2.3->phik) (3.0.9)\n",
            "Requirement already satisfied: kiwisolver>=1.0.1 in /usr/local/lib/python3.7/dist-packages (from matplotlib>=2.2.3->phik) (1.4.2)\n",
            "Requirement already satisfied: cycler>=0.10 in /usr/local/lib/python3.7/dist-packages (from matplotlib>=2.2.3->phik) (0.11.0)\n",
            "Requirement already satisfied: typing-extensions in /usr/local/lib/python3.7/dist-packages (from kiwisolver>=1.0.1->matplotlib>=2.2.3->phik) (4.2.0)\n",
            "Requirement already satisfied: pytz>=2017.3 in /usr/local/lib/python3.7/dist-packages (from pandas>=0.25.1->phik) (2022.1)\n",
            "Requirement already satisfied: six>=1.5 in /usr/local/lib/python3.7/dist-packages (from python-dateutil>=2.1->matplotlib>=2.2.3->phik) (1.15.0)\n",
            "Installing collected packages: scipy, phik\n",
            "  Attempting uninstall: scipy\n",
            "    Found existing installation: scipy 1.4.1\n",
            "    Uninstalling scipy-1.4.1:\n",
            "      Successfully uninstalled scipy-1.4.1\n",
            "\u001b[31mERROR: pip's dependency resolver does not currently take into account all the packages that are installed. This behaviour is the source of the following dependency conflicts.\n",
            "albumentations 0.1.12 requires imgaug<0.2.7,>=0.2.5, but you have imgaug 0.2.9 which is incompatible.\u001b[0m\n",
            "Successfully installed phik-0.12.2 scipy-1.7.3\n"
          ]
        },
        {
          "output_type": "display_data",
          "data": {
            "application/vnd.colab-display-data+json": {
              "pip_warning": {
                "packages": [
                  "scipy"
                ]
              }
            }
          },
          "metadata": {}
        }
      ],
      "source": [
        "! pip install phik"
      ]
    },
    {
      "cell_type": "code",
      "execution_count": null,
      "metadata": {
        "id": "mOTTObMqjIgy"
      },
      "outputs": [],
      "source": [
        "import phik"
      ]
    },
    {
      "cell_type": "code",
      "execution_count": null,
      "metadata": {
        "colab": {
          "base_uri": "https://localhost:8080/"
        },
        "id": "2S-pfQl3BciJ",
        "outputId": "7e58a2a1-80bd-4011-8170-9add6a2366bd"
      },
      "outputs": [
        {
          "output_type": "stream",
          "name": "stdout",
          "text": [
            "interval columns not set, guessing: ['action', 'resource', 'mgr_id', 'role_rollup_1', 'role_rollup_2', 'role_deptname', 'role_title', 'role_family_desc', 'role_family', 'role_code']\n"
          ]
        }
      ],
      "source": [
        "phik_overview = train_full.phik_matrix()"
      ]
    },
    {
      "cell_type": "code",
      "execution_count": null,
      "metadata": {
        "colab": {
          "base_uri": "https://localhost:8080/"
        },
        "id": "uYEBpgGUjSyT",
        "outputId": "7a17eb03-dcdb-42bf-9d52-2673969771f2"
      },
      "outputs": [
        {
          "output_type": "execute_result",
          "data": {
            "text/plain": [
              "action              1.000000\n",
              "role_family         0.110544\n",
              "role_family_desc    0.080102\n",
              "role_deptname       0.060070\n",
              "mgr_id              0.042324\n",
              "resource            0.029653\n",
              "role_rollup_2       0.023925\n",
              "role_rollup_1       0.019897\n",
              "role_title          0.016686\n",
              "role_code           0.000000\n",
              "Name: action, dtype: float64"
            ]
          },
          "metadata": {},
          "execution_count": 20
        }
      ],
      "source": [
        "phik_overview['action'].sort_values(ascending=False)"
      ]
    },
    {
      "cell_type": "markdown",
      "metadata": {
        "id": "MnpFFCbLGgYI"
      },
      "source": [
        "#Обучение"
      ]
    },
    {
      "cell_type": "code",
      "execution_count": null,
      "metadata": {
        "colab": {
          "base_uri": "https://localhost:8080/"
        },
        "id": "oh99cs-8rPpL",
        "outputId": "751b7bee-0c91-49a1-f347-6cede958bd3c"
      },
      "outputs": [
        {
          "output_type": "stream",
          "name": "stdout",
          "text": [
            "Looking in indexes: https://pypi.org/simple, https://us-python.pkg.dev/colab-wheels/public/simple/\n",
            "Collecting catboost\n",
            "  Downloading catboost-1.0.6-cp37-none-manylinux1_x86_64.whl (76.6 MB)\n",
            "\u001b[K     |████████████████████████████████| 76.6 MB 1.2 MB/s \n",
            "\u001b[?25hRequirement already satisfied: plotly in /usr/local/lib/python3.7/dist-packages (from catboost) (5.5.0)\n",
            "Requirement already satisfied: scipy in /usr/local/lib/python3.7/dist-packages (from catboost) (1.7.3)\n",
            "Requirement already satisfied: six in /usr/local/lib/python3.7/dist-packages (from catboost) (1.15.0)\n",
            "Requirement already satisfied: matplotlib in /usr/local/lib/python3.7/dist-packages (from catboost) (3.2.2)\n",
            "Requirement already satisfied: numpy>=1.16.0 in /usr/local/lib/python3.7/dist-packages (from catboost) (1.21.6)\n",
            "Requirement already satisfied: pandas>=0.24.0 in /usr/local/lib/python3.7/dist-packages (from catboost) (1.3.5)\n",
            "Requirement already satisfied: graphviz in /usr/local/lib/python3.7/dist-packages (from catboost) (0.10.1)\n",
            "Requirement already satisfied: pytz>=2017.3 in /usr/local/lib/python3.7/dist-packages (from pandas>=0.24.0->catboost) (2022.1)\n",
            "Requirement already satisfied: python-dateutil>=2.7.3 in /usr/local/lib/python3.7/dist-packages (from pandas>=0.24.0->catboost) (2.8.2)\n",
            "Requirement already satisfied: cycler>=0.10 in /usr/local/lib/python3.7/dist-packages (from matplotlib->catboost) (0.11.0)\n",
            "Requirement already satisfied: pyparsing!=2.0.4,!=2.1.2,!=2.1.6,>=2.0.1 in /usr/local/lib/python3.7/dist-packages (from matplotlib->catboost) (3.0.9)\n",
            "Requirement already satisfied: kiwisolver>=1.0.1 in /usr/local/lib/python3.7/dist-packages (from matplotlib->catboost) (1.4.2)\n",
            "Requirement already satisfied: typing-extensions in /usr/local/lib/python3.7/dist-packages (from kiwisolver>=1.0.1->matplotlib->catboost) (4.2.0)\n",
            "Requirement already satisfied: tenacity>=6.2.0 in /usr/local/lib/python3.7/dist-packages (from plotly->catboost) (8.0.1)\n",
            "Installing collected packages: catboost\n",
            "Successfully installed catboost-1.0.6\n"
          ]
        }
      ],
      "source": [
        "! pip install catboost"
      ]
    },
    {
      "cell_type": "code",
      "execution_count": null,
      "metadata": {
        "id": "ud0l7hiSrkbQ"
      },
      "outputs": [],
      "source": [
        "from catboost import CatBoostClassifier"
      ]
    },
    {
      "cell_type": "code",
      "execution_count": null,
      "metadata": {
        "colab": {
          "base_uri": "https://localhost:8080/"
        },
        "id": "GUwlD2kjrre0",
        "outputId": "cba2f2a4-0033-41ca-9f30-746c011ad0e2"
      },
      "outputs": [
        {
          "output_type": "execute_result",
          "data": {
            "text/plain": [
              "Index(['action', 'resource', 'mgr_id', 'role_rollup_1', 'role_rollup_2',\n",
              "       'role_deptname', 'role_title', 'role_family_desc', 'role_family',\n",
              "       'role_code'],\n",
              "      dtype='object')"
            ]
          },
          "metadata": {},
          "execution_count": 23
        }
      ],
      "source": [
        "train_full.columns"
      ]
    },
    {
      "cell_type": "code",
      "execution_count": null,
      "metadata": {
        "id": "4Kb8hcXPruU9"
      },
      "outputs": [],
      "source": [
        "X = ['role_family','role_family_desc','role_deptname']\n",
        "y = ['action']"
      ]
    },
    {
      "cell_type": "code",
      "execution_count": null,
      "metadata": {
        "id": "bADQTaVIr-vN"
      },
      "outputs": [],
      "source": [
        "params = {'verbose':100,\n",
        "          'random_seed':42,\n",
        "          'learning_rate':0.08}"
      ]
    },
    {
      "cell_type": "code",
      "execution_count": null,
      "metadata": {
        "id": "jNrw4Z70r4ZH"
      },
      "outputs": [],
      "source": [
        "model = CatBoostClassifier(**params)"
      ]
    },
    {
      "cell_type": "code",
      "execution_count": null,
      "metadata": {
        "colab": {
          "base_uri": "https://localhost:8080/"
        },
        "id": "_7dS2vHisEDV",
        "outputId": "caa48d76-3180-40fd-d5d6-8b6f21339377"
      },
      "outputs": [
        {
          "output_type": "stream",
          "name": "stdout",
          "text": [
            "0:\tlearn: 0.5989648\ttest: 0.5990418\tbest: 0.5990418 (0)\ttotal: 67.8ms\tremaining: 1m 7s\n",
            "100:\tlearn: 0.1946339\ttest: 0.2043458\tbest: 0.2043458 (100)\ttotal: 1.24s\tremaining: 11s\n",
            "200:\tlearn: 0.1813924\ttest: 0.1972686\tbest: 0.1972686 (200)\ttotal: 1.91s\tremaining: 7.58s\n",
            "300:\tlearn: 0.1712745\ttest: 0.1918814\tbest: 0.1918814 (300)\ttotal: 2.6s\tremaining: 6.03s\n",
            "400:\tlearn: 0.1635262\ttest: 0.1879432\tbest: 0.1879432 (400)\ttotal: 3.36s\tremaining: 5.01s\n",
            "500:\tlearn: 0.1572075\ttest: 0.1865487\tbest: 0.1865487 (500)\ttotal: 4.01s\tremaining: 3.99s\n",
            "600:\tlearn: 0.1528206\ttest: 0.1847493\tbest: 0.1847140 (595)\ttotal: 4.64s\tremaining: 3.08s\n",
            "700:\tlearn: 0.1489035\ttest: 0.1834084\tbest: 0.1834084 (700)\ttotal: 5.26s\tremaining: 2.25s\n",
            "800:\tlearn: 0.1456728\ttest: 0.1821734\tbest: 0.1821470 (799)\ttotal: 6.23s\tremaining: 1.55s\n",
            "900:\tlearn: 0.1427978\ttest: 0.1815768\tbest: 0.1815250 (898)\ttotal: 7.62s\tremaining: 837ms\n",
            "999:\tlearn: 0.1405632\ttest: 0.1811129\tbest: 0.1809879 (982)\ttotal: 9.49s\tremaining: 0us\n",
            "\n",
            "bestTest = 0.1809878928\n",
            "bestIteration = 982\n",
            "\n",
            "Shrink model to first 983 iterations.\n"
          ]
        },
        {
          "output_type": "execute_result",
          "data": {
            "text/plain": [
              "<catboost.core.CatBoostClassifier at 0x7fa1686fda50>"
            ]
          },
          "metadata": {},
          "execution_count": 27
        }
      ],
      "source": [
        "model.fit(train[X],train[y],eval_set=(val[X],val[y]))"
      ]
    },
    {
      "cell_type": "code",
      "execution_count": null,
      "metadata": {
        "id": "ZBqta4FrI2KC"
      },
      "outputs": [],
      "source": [
        "test['pred'] = model.predict(test[X])"
      ]
    },
    {
      "cell_type": "code",
      "execution_count": null,
      "metadata": {
        "colab": {
          "base_uri": "https://localhost:8080/",
          "height": 424
        },
        "id": "ybaiZkfEreW_",
        "outputId": "305e0554-f209-47c1-ccd6-5b2ec0542ddc"
      },
      "outputs": [
        {
          "output_type": "execute_result",
          "data": {
            "text/plain": [
              "       action  resource  mgr_id  role_rollup_1  role_rollup_2  role_deptname  \\\n",
              "26626       1      4675    3889         117961         118386         121668   \n",
              "26772       1     19310   68658           5110         117954         117895   \n",
              "10833       1     74829   32457         117961         118327         118320   \n",
              "10718       1     73876   22431         117961         118413         126229   \n",
              "32445       1     72445   25293         117961         118386         123072   \n",
              "...       ...       ...     ...            ...            ...            ...   \n",
              "19823       1     34924    8399         117961         118413         120370   \n",
              "21442       1     28149   46374         118315         118316         225010   \n",
              "6693        1     29304   57164         117975         117976         117912   \n",
              "13254       1     39628    5115         117961         118300         118631   \n",
              "29560       1     33149   15422         117961         118052         122392   \n",
              "\n",
              "       role_title  role_family_desc  role_family  role_code  pred  \n",
              "26626      126184            140840       118762     126186     1  \n",
              "26772      117879            118250        19721     117880     1  \n",
              "10833      118321            117906       290919     118322     1  \n",
              "10718      118777            279443       308574     118779     1  \n",
              "32445      118784            117906       290919     118786     1  \n",
              "...           ...               ...          ...        ...   ...  \n",
              "19823      122645            137960       119221     122647     1  \n",
              "21442      119849            134910       118638     119851     1  \n",
              "6693       117885            117913       117887     117888     1  \n",
              "13254      119587            176829       118704     119589     1  \n",
              "29560      130479            209981       119784     130481     1  \n",
              "\n",
              "[6554 rows x 11 columns]"
            ],
            "text/html": [
              "\n",
              "  <div id=\"df-12ec4300-7f95-465f-b085-dbb6b90b6718\">\n",
              "    <div class=\"colab-df-container\">\n",
              "      <div>\n",
              "<style scoped>\n",
              "    .dataframe tbody tr th:only-of-type {\n",
              "        vertical-align: middle;\n",
              "    }\n",
              "\n",
              "    .dataframe tbody tr th {\n",
              "        vertical-align: top;\n",
              "    }\n",
              "\n",
              "    .dataframe thead th {\n",
              "        text-align: right;\n",
              "    }\n",
              "</style>\n",
              "<table border=\"1\" class=\"dataframe\">\n",
              "  <thead>\n",
              "    <tr style=\"text-align: right;\">\n",
              "      <th></th>\n",
              "      <th>action</th>\n",
              "      <th>resource</th>\n",
              "      <th>mgr_id</th>\n",
              "      <th>role_rollup_1</th>\n",
              "      <th>role_rollup_2</th>\n",
              "      <th>role_deptname</th>\n",
              "      <th>role_title</th>\n",
              "      <th>role_family_desc</th>\n",
              "      <th>role_family</th>\n",
              "      <th>role_code</th>\n",
              "      <th>pred</th>\n",
              "    </tr>\n",
              "  </thead>\n",
              "  <tbody>\n",
              "    <tr>\n",
              "      <th>26626</th>\n",
              "      <td>1</td>\n",
              "      <td>4675</td>\n",
              "      <td>3889</td>\n",
              "      <td>117961</td>\n",
              "      <td>118386</td>\n",
              "      <td>121668</td>\n",
              "      <td>126184</td>\n",
              "      <td>140840</td>\n",
              "      <td>118762</td>\n",
              "      <td>126186</td>\n",
              "      <td>1</td>\n",
              "    </tr>\n",
              "    <tr>\n",
              "      <th>26772</th>\n",
              "      <td>1</td>\n",
              "      <td>19310</td>\n",
              "      <td>68658</td>\n",
              "      <td>5110</td>\n",
              "      <td>117954</td>\n",
              "      <td>117895</td>\n",
              "      <td>117879</td>\n",
              "      <td>118250</td>\n",
              "      <td>19721</td>\n",
              "      <td>117880</td>\n",
              "      <td>1</td>\n",
              "    </tr>\n",
              "    <tr>\n",
              "      <th>10833</th>\n",
              "      <td>1</td>\n",
              "      <td>74829</td>\n",
              "      <td>32457</td>\n",
              "      <td>117961</td>\n",
              "      <td>118327</td>\n",
              "      <td>118320</td>\n",
              "      <td>118321</td>\n",
              "      <td>117906</td>\n",
              "      <td>290919</td>\n",
              "      <td>118322</td>\n",
              "      <td>1</td>\n",
              "    </tr>\n",
              "    <tr>\n",
              "      <th>10718</th>\n",
              "      <td>1</td>\n",
              "      <td>73876</td>\n",
              "      <td>22431</td>\n",
              "      <td>117961</td>\n",
              "      <td>118413</td>\n",
              "      <td>126229</td>\n",
              "      <td>118777</td>\n",
              "      <td>279443</td>\n",
              "      <td>308574</td>\n",
              "      <td>118779</td>\n",
              "      <td>1</td>\n",
              "    </tr>\n",
              "    <tr>\n",
              "      <th>32445</th>\n",
              "      <td>1</td>\n",
              "      <td>72445</td>\n",
              "      <td>25293</td>\n",
              "      <td>117961</td>\n",
              "      <td>118386</td>\n",
              "      <td>123072</td>\n",
              "      <td>118784</td>\n",
              "      <td>117906</td>\n",
              "      <td>290919</td>\n",
              "      <td>118786</td>\n",
              "      <td>1</td>\n",
              "    </tr>\n",
              "    <tr>\n",
              "      <th>...</th>\n",
              "      <td>...</td>\n",
              "      <td>...</td>\n",
              "      <td>...</td>\n",
              "      <td>...</td>\n",
              "      <td>...</td>\n",
              "      <td>...</td>\n",
              "      <td>...</td>\n",
              "      <td>...</td>\n",
              "      <td>...</td>\n",
              "      <td>...</td>\n",
              "      <td>...</td>\n",
              "    </tr>\n",
              "    <tr>\n",
              "      <th>19823</th>\n",
              "      <td>1</td>\n",
              "      <td>34924</td>\n",
              "      <td>8399</td>\n",
              "      <td>117961</td>\n",
              "      <td>118413</td>\n",
              "      <td>120370</td>\n",
              "      <td>122645</td>\n",
              "      <td>137960</td>\n",
              "      <td>119221</td>\n",
              "      <td>122647</td>\n",
              "      <td>1</td>\n",
              "    </tr>\n",
              "    <tr>\n",
              "      <th>21442</th>\n",
              "      <td>1</td>\n",
              "      <td>28149</td>\n",
              "      <td>46374</td>\n",
              "      <td>118315</td>\n",
              "      <td>118316</td>\n",
              "      <td>225010</td>\n",
              "      <td>119849</td>\n",
              "      <td>134910</td>\n",
              "      <td>118638</td>\n",
              "      <td>119851</td>\n",
              "      <td>1</td>\n",
              "    </tr>\n",
              "    <tr>\n",
              "      <th>6693</th>\n",
              "      <td>1</td>\n",
              "      <td>29304</td>\n",
              "      <td>57164</td>\n",
              "      <td>117975</td>\n",
              "      <td>117976</td>\n",
              "      <td>117912</td>\n",
              "      <td>117885</td>\n",
              "      <td>117913</td>\n",
              "      <td>117887</td>\n",
              "      <td>117888</td>\n",
              "      <td>1</td>\n",
              "    </tr>\n",
              "    <tr>\n",
              "      <th>13254</th>\n",
              "      <td>1</td>\n",
              "      <td>39628</td>\n",
              "      <td>5115</td>\n",
              "      <td>117961</td>\n",
              "      <td>118300</td>\n",
              "      <td>118631</td>\n",
              "      <td>119587</td>\n",
              "      <td>176829</td>\n",
              "      <td>118704</td>\n",
              "      <td>119589</td>\n",
              "      <td>1</td>\n",
              "    </tr>\n",
              "    <tr>\n",
              "      <th>29560</th>\n",
              "      <td>1</td>\n",
              "      <td>33149</td>\n",
              "      <td>15422</td>\n",
              "      <td>117961</td>\n",
              "      <td>118052</td>\n",
              "      <td>122392</td>\n",
              "      <td>130479</td>\n",
              "      <td>209981</td>\n",
              "      <td>119784</td>\n",
              "      <td>130481</td>\n",
              "      <td>1</td>\n",
              "    </tr>\n",
              "  </tbody>\n",
              "</table>\n",
              "<p>6554 rows × 11 columns</p>\n",
              "</div>\n",
              "      <button class=\"colab-df-convert\" onclick=\"convertToInteractive('df-12ec4300-7f95-465f-b085-dbb6b90b6718')\"\n",
              "              title=\"Convert this dataframe to an interactive table.\"\n",
              "              style=\"display:none;\">\n",
              "        \n",
              "  <svg xmlns=\"http://www.w3.org/2000/svg\" height=\"24px\"viewBox=\"0 0 24 24\"\n",
              "       width=\"24px\">\n",
              "    <path d=\"M0 0h24v24H0V0z\" fill=\"none\"/>\n",
              "    <path d=\"M18.56 5.44l.94 2.06.94-2.06 2.06-.94-2.06-.94-.94-2.06-.94 2.06-2.06.94zm-11 1L8.5 8.5l.94-2.06 2.06-.94-2.06-.94L8.5 2.5l-.94 2.06-2.06.94zm10 10l.94 2.06.94-2.06 2.06-.94-2.06-.94-.94-2.06-.94 2.06-2.06.94z\"/><path d=\"M17.41 7.96l-1.37-1.37c-.4-.4-.92-.59-1.43-.59-.52 0-1.04.2-1.43.59L10.3 9.45l-7.72 7.72c-.78.78-.78 2.05 0 2.83L4 21.41c.39.39.9.59 1.41.59.51 0 1.02-.2 1.41-.59l7.78-7.78 2.81-2.81c.8-.78.8-2.07 0-2.86zM5.41 20L4 18.59l7.72-7.72 1.47 1.35L5.41 20z\"/>\n",
              "  </svg>\n",
              "      </button>\n",
              "      \n",
              "  <style>\n",
              "    .colab-df-container {\n",
              "      display:flex;\n",
              "      flex-wrap:wrap;\n",
              "      gap: 12px;\n",
              "    }\n",
              "\n",
              "    .colab-df-convert {\n",
              "      background-color: #E8F0FE;\n",
              "      border: none;\n",
              "      border-radius: 50%;\n",
              "      cursor: pointer;\n",
              "      display: none;\n",
              "      fill: #1967D2;\n",
              "      height: 32px;\n",
              "      padding: 0 0 0 0;\n",
              "      width: 32px;\n",
              "    }\n",
              "\n",
              "    .colab-df-convert:hover {\n",
              "      background-color: #E2EBFA;\n",
              "      box-shadow: 0px 1px 2px rgba(60, 64, 67, 0.3), 0px 1px 3px 1px rgba(60, 64, 67, 0.15);\n",
              "      fill: #174EA6;\n",
              "    }\n",
              "\n",
              "    [theme=dark] .colab-df-convert {\n",
              "      background-color: #3B4455;\n",
              "      fill: #D2E3FC;\n",
              "    }\n",
              "\n",
              "    [theme=dark] .colab-df-convert:hover {\n",
              "      background-color: #434B5C;\n",
              "      box-shadow: 0px 1px 3px 1px rgba(0, 0, 0, 0.15);\n",
              "      filter: drop-shadow(0px 1px 2px rgba(0, 0, 0, 0.3));\n",
              "      fill: #FFFFFF;\n",
              "    }\n",
              "  </style>\n",
              "\n",
              "      <script>\n",
              "        const buttonEl =\n",
              "          document.querySelector('#df-12ec4300-7f95-465f-b085-dbb6b90b6718 button.colab-df-convert');\n",
              "        buttonEl.style.display =\n",
              "          google.colab.kernel.accessAllowed ? 'block' : 'none';\n",
              "\n",
              "        async function convertToInteractive(key) {\n",
              "          const element = document.querySelector('#df-12ec4300-7f95-465f-b085-dbb6b90b6718');\n",
              "          const dataTable =\n",
              "            await google.colab.kernel.invokeFunction('convertToInteractive',\n",
              "                                                     [key], {});\n",
              "          if (!dataTable) return;\n",
              "\n",
              "          const docLinkHtml = 'Like what you see? Visit the ' +\n",
              "            '<a target=\"_blank\" href=https://colab.research.google.com/notebooks/data_table.ipynb>data table notebook</a>'\n",
              "            + ' to learn more about interactive tables.';\n",
              "          element.innerHTML = '';\n",
              "          dataTable['output_type'] = 'display_data';\n",
              "          await google.colab.output.renderOutput(dataTable, element);\n",
              "          const docLink = document.createElement('div');\n",
              "          docLink.innerHTML = docLinkHtml;\n",
              "          element.appendChild(docLink);\n",
              "        }\n",
              "      </script>\n",
              "    </div>\n",
              "  </div>\n",
              "  "
            ]
          },
          "metadata": {},
          "execution_count": 29
        }
      ],
      "source": [
        "test"
      ]
    },
    {
      "cell_type": "markdown",
      "metadata": {
        "id": "jqizr2fzNlAe"
      },
      "source": [
        "#Обучение на всех фичах"
      ]
    },
    {
      "cell_type": "code",
      "execution_count": null,
      "metadata": {
        "colab": {
          "base_uri": "https://localhost:8080/",
          "height": 424
        },
        "id": "BltjxK57PKpN",
        "outputId": "6ac8b6aa-3963-464b-a833-4a0aeb0bac3d"
      },
      "outputs": [
        {
          "output_type": "execute_result",
          "data": {
            "text/plain": [
              "       action  resource  mgr_id  role_rollup_1  role_rollup_2  role_deptname  \\\n",
              "23130       1     31702    1373         117943         117944         117945   \n",
              "3307        1     43876   56680         118079         118080         117878   \n",
              "30009       1     37009    2014         117961         117962         117904   \n",
              "9961        0     45609    3838         117961         118225         119924   \n",
              "22289       0     78367   54618         117961         118052         118992   \n",
              "...       ...       ...     ...            ...            ...            ...   \n",
              "17730       1     80383    4669         117961         118327         118391   \n",
              "27566       0     18072   51734         118256         118257         117945   \n",
              "5359        1     27623   86387         117961         118327           4674   \n",
              "20282       1     80195    2270         117961         118413         277693   \n",
              "25033       1     79875   71215         117961         118386         118404   \n",
              "\n",
              "       role_title  role_family_desc  role_family  role_code  \n",
              "23130      118274            192835       292795     118276  \n",
              "3307       117879            117913        19721     117880  \n",
              "30009      118958            127525       118960     118961  \n",
              "9961       118321            118448       290919     118322  \n",
              "22289      118321            117906       290919     118322  \n",
              "...           ...               ...          ...        ...  \n",
              "17730      118321            117906       290919     118322  \n",
              "27566      117946            119235       292795     117948  \n",
              "5359       118321            117906       290919     118322  \n",
              "20282      118777            279443       308574     118779  \n",
              "25033      118784            118785       290919     118786  \n",
              "\n",
              "[19661 rows x 10 columns]"
            ],
            "text/html": [
              "\n",
              "  <div id=\"df-6a84a60b-530f-41f4-90f6-520543640505\">\n",
              "    <div class=\"colab-df-container\">\n",
              "      <div>\n",
              "<style scoped>\n",
              "    .dataframe tbody tr th:only-of-type {\n",
              "        vertical-align: middle;\n",
              "    }\n",
              "\n",
              "    .dataframe tbody tr th {\n",
              "        vertical-align: top;\n",
              "    }\n",
              "\n",
              "    .dataframe thead th {\n",
              "        text-align: right;\n",
              "    }\n",
              "</style>\n",
              "<table border=\"1\" class=\"dataframe\">\n",
              "  <thead>\n",
              "    <tr style=\"text-align: right;\">\n",
              "      <th></th>\n",
              "      <th>action</th>\n",
              "      <th>resource</th>\n",
              "      <th>mgr_id</th>\n",
              "      <th>role_rollup_1</th>\n",
              "      <th>role_rollup_2</th>\n",
              "      <th>role_deptname</th>\n",
              "      <th>role_title</th>\n",
              "      <th>role_family_desc</th>\n",
              "      <th>role_family</th>\n",
              "      <th>role_code</th>\n",
              "    </tr>\n",
              "  </thead>\n",
              "  <tbody>\n",
              "    <tr>\n",
              "      <th>23130</th>\n",
              "      <td>1</td>\n",
              "      <td>31702</td>\n",
              "      <td>1373</td>\n",
              "      <td>117943</td>\n",
              "      <td>117944</td>\n",
              "      <td>117945</td>\n",
              "      <td>118274</td>\n",
              "      <td>192835</td>\n",
              "      <td>292795</td>\n",
              "      <td>118276</td>\n",
              "    </tr>\n",
              "    <tr>\n",
              "      <th>3307</th>\n",
              "      <td>1</td>\n",
              "      <td>43876</td>\n",
              "      <td>56680</td>\n",
              "      <td>118079</td>\n",
              "      <td>118080</td>\n",
              "      <td>117878</td>\n",
              "      <td>117879</td>\n",
              "      <td>117913</td>\n",
              "      <td>19721</td>\n",
              "      <td>117880</td>\n",
              "    </tr>\n",
              "    <tr>\n",
              "      <th>30009</th>\n",
              "      <td>1</td>\n",
              "      <td>37009</td>\n",
              "      <td>2014</td>\n",
              "      <td>117961</td>\n",
              "      <td>117962</td>\n",
              "      <td>117904</td>\n",
              "      <td>118958</td>\n",
              "      <td>127525</td>\n",
              "      <td>118960</td>\n",
              "      <td>118961</td>\n",
              "    </tr>\n",
              "    <tr>\n",
              "      <th>9961</th>\n",
              "      <td>0</td>\n",
              "      <td>45609</td>\n",
              "      <td>3838</td>\n",
              "      <td>117961</td>\n",
              "      <td>118225</td>\n",
              "      <td>119924</td>\n",
              "      <td>118321</td>\n",
              "      <td>118448</td>\n",
              "      <td>290919</td>\n",
              "      <td>118322</td>\n",
              "    </tr>\n",
              "    <tr>\n",
              "      <th>22289</th>\n",
              "      <td>0</td>\n",
              "      <td>78367</td>\n",
              "      <td>54618</td>\n",
              "      <td>117961</td>\n",
              "      <td>118052</td>\n",
              "      <td>118992</td>\n",
              "      <td>118321</td>\n",
              "      <td>117906</td>\n",
              "      <td>290919</td>\n",
              "      <td>118322</td>\n",
              "    </tr>\n",
              "    <tr>\n",
              "      <th>...</th>\n",
              "      <td>...</td>\n",
              "      <td>...</td>\n",
              "      <td>...</td>\n",
              "      <td>...</td>\n",
              "      <td>...</td>\n",
              "      <td>...</td>\n",
              "      <td>...</td>\n",
              "      <td>...</td>\n",
              "      <td>...</td>\n",
              "      <td>...</td>\n",
              "    </tr>\n",
              "    <tr>\n",
              "      <th>17730</th>\n",
              "      <td>1</td>\n",
              "      <td>80383</td>\n",
              "      <td>4669</td>\n",
              "      <td>117961</td>\n",
              "      <td>118327</td>\n",
              "      <td>118391</td>\n",
              "      <td>118321</td>\n",
              "      <td>117906</td>\n",
              "      <td>290919</td>\n",
              "      <td>118322</td>\n",
              "    </tr>\n",
              "    <tr>\n",
              "      <th>27566</th>\n",
              "      <td>0</td>\n",
              "      <td>18072</td>\n",
              "      <td>51734</td>\n",
              "      <td>118256</td>\n",
              "      <td>118257</td>\n",
              "      <td>117945</td>\n",
              "      <td>117946</td>\n",
              "      <td>119235</td>\n",
              "      <td>292795</td>\n",
              "      <td>117948</td>\n",
              "    </tr>\n",
              "    <tr>\n",
              "      <th>5359</th>\n",
              "      <td>1</td>\n",
              "      <td>27623</td>\n",
              "      <td>86387</td>\n",
              "      <td>117961</td>\n",
              "      <td>118327</td>\n",
              "      <td>4674</td>\n",
              "      <td>118321</td>\n",
              "      <td>117906</td>\n",
              "      <td>290919</td>\n",
              "      <td>118322</td>\n",
              "    </tr>\n",
              "    <tr>\n",
              "      <th>20282</th>\n",
              "      <td>1</td>\n",
              "      <td>80195</td>\n",
              "      <td>2270</td>\n",
              "      <td>117961</td>\n",
              "      <td>118413</td>\n",
              "      <td>277693</td>\n",
              "      <td>118777</td>\n",
              "      <td>279443</td>\n",
              "      <td>308574</td>\n",
              "      <td>118779</td>\n",
              "    </tr>\n",
              "    <tr>\n",
              "      <th>25033</th>\n",
              "      <td>1</td>\n",
              "      <td>79875</td>\n",
              "      <td>71215</td>\n",
              "      <td>117961</td>\n",
              "      <td>118386</td>\n",
              "      <td>118404</td>\n",
              "      <td>118784</td>\n",
              "      <td>118785</td>\n",
              "      <td>290919</td>\n",
              "      <td>118786</td>\n",
              "    </tr>\n",
              "  </tbody>\n",
              "</table>\n",
              "<p>19661 rows × 10 columns</p>\n",
              "</div>\n",
              "      <button class=\"colab-df-convert\" onclick=\"convertToInteractive('df-6a84a60b-530f-41f4-90f6-520543640505')\"\n",
              "              title=\"Convert this dataframe to an interactive table.\"\n",
              "              style=\"display:none;\">\n",
              "        \n",
              "  <svg xmlns=\"http://www.w3.org/2000/svg\" height=\"24px\"viewBox=\"0 0 24 24\"\n",
              "       width=\"24px\">\n",
              "    <path d=\"M0 0h24v24H0V0z\" fill=\"none\"/>\n",
              "    <path d=\"M18.56 5.44l.94 2.06.94-2.06 2.06-.94-2.06-.94-.94-2.06-.94 2.06-2.06.94zm-11 1L8.5 8.5l.94-2.06 2.06-.94-2.06-.94L8.5 2.5l-.94 2.06-2.06.94zm10 10l.94 2.06.94-2.06 2.06-.94-2.06-.94-.94-2.06-.94 2.06-2.06.94z\"/><path d=\"M17.41 7.96l-1.37-1.37c-.4-.4-.92-.59-1.43-.59-.52 0-1.04.2-1.43.59L10.3 9.45l-7.72 7.72c-.78.78-.78 2.05 0 2.83L4 21.41c.39.39.9.59 1.41.59.51 0 1.02-.2 1.41-.59l7.78-7.78 2.81-2.81c.8-.78.8-2.07 0-2.86zM5.41 20L4 18.59l7.72-7.72 1.47 1.35L5.41 20z\"/>\n",
              "  </svg>\n",
              "      </button>\n",
              "      \n",
              "  <style>\n",
              "    .colab-df-container {\n",
              "      display:flex;\n",
              "      flex-wrap:wrap;\n",
              "      gap: 12px;\n",
              "    }\n",
              "\n",
              "    .colab-df-convert {\n",
              "      background-color: #E8F0FE;\n",
              "      border: none;\n",
              "      border-radius: 50%;\n",
              "      cursor: pointer;\n",
              "      display: none;\n",
              "      fill: #1967D2;\n",
              "      height: 32px;\n",
              "      padding: 0 0 0 0;\n",
              "      width: 32px;\n",
              "    }\n",
              "\n",
              "    .colab-df-convert:hover {\n",
              "      background-color: #E2EBFA;\n",
              "      box-shadow: 0px 1px 2px rgba(60, 64, 67, 0.3), 0px 1px 3px 1px rgba(60, 64, 67, 0.15);\n",
              "      fill: #174EA6;\n",
              "    }\n",
              "\n",
              "    [theme=dark] .colab-df-convert {\n",
              "      background-color: #3B4455;\n",
              "      fill: #D2E3FC;\n",
              "    }\n",
              "\n",
              "    [theme=dark] .colab-df-convert:hover {\n",
              "      background-color: #434B5C;\n",
              "      box-shadow: 0px 1px 3px 1px rgba(0, 0, 0, 0.15);\n",
              "      filter: drop-shadow(0px 1px 2px rgba(0, 0, 0, 0.3));\n",
              "      fill: #FFFFFF;\n",
              "    }\n",
              "  </style>\n",
              "\n",
              "      <script>\n",
              "        const buttonEl =\n",
              "          document.querySelector('#df-6a84a60b-530f-41f4-90f6-520543640505 button.colab-df-convert');\n",
              "        buttonEl.style.display =\n",
              "          google.colab.kernel.accessAllowed ? 'block' : 'none';\n",
              "\n",
              "        async function convertToInteractive(key) {\n",
              "          const element = document.querySelector('#df-6a84a60b-530f-41f4-90f6-520543640505');\n",
              "          const dataTable =\n",
              "            await google.colab.kernel.invokeFunction('convertToInteractive',\n",
              "                                                     [key], {});\n",
              "          if (!dataTable) return;\n",
              "\n",
              "          const docLinkHtml = 'Like what you see? Visit the ' +\n",
              "            '<a target=\"_blank\" href=https://colab.research.google.com/notebooks/data_table.ipynb>data table notebook</a>'\n",
              "            + ' to learn more about interactive tables.';\n",
              "          element.innerHTML = '';\n",
              "          dataTable['output_type'] = 'display_data';\n",
              "          await google.colab.output.renderOutput(dataTable, element);\n",
              "          const docLink = document.createElement('div');\n",
              "          docLink.innerHTML = docLinkHtml;\n",
              "          element.appendChild(docLink);\n",
              "        }\n",
              "      </script>\n",
              "    </div>\n",
              "  </div>\n",
              "  "
            ]
          },
          "metadata": {},
          "execution_count": 30
        }
      ],
      "source": [
        "train"
      ]
    },
    {
      "cell_type": "code",
      "execution_count": null,
      "metadata": {
        "id": "fWlhFZ09PMP-"
      },
      "outputs": [],
      "source": [
        "X = ['role_family','role_family_desc','role_deptname','resource','mgr_id','role_rollup_1','role_rollup_2','role_title','role_code']\n",
        "y = ['action']"
      ]
    },
    {
      "cell_type": "code",
      "execution_count": null,
      "metadata": {
        "id": "6Rvu3p9sPMP_"
      },
      "outputs": [],
      "source": [
        "params = {'verbose':100,\n",
        "          'random_seed':42,\n",
        "          'learning_rate':0.10}"
      ]
    },
    {
      "cell_type": "code",
      "execution_count": null,
      "metadata": {
        "id": "pkFDCF9VPMQA"
      },
      "outputs": [],
      "source": [
        "model = CatBoostClassifier(**params)"
      ]
    },
    {
      "cell_type": "code",
      "execution_count": null,
      "metadata": {
        "id": "NjUaLdw5PMQB",
        "colab": {
          "base_uri": "https://localhost:8080/"
        },
        "outputId": "57532942-9059-4033-891a-e48a4a488eb3"
      },
      "outputs": [
        {
          "output_type": "stream",
          "name": "stdout",
          "text": [
            "0:\tlearn: 0.5773325\ttest: 0.5776275\tbest: 0.5776275 (0)\ttotal: 26.9ms\tremaining: 26.9s\n",
            "100:\tlearn: 0.1718685\ttest: 0.1893371\tbest: 0.1893371 (100)\ttotal: 1.79s\tremaining: 15.9s\n",
            "200:\tlearn: 0.1474351\ttest: 0.1786174\tbest: 0.1786174 (200)\ttotal: 2.65s\tremaining: 10.5s\n",
            "300:\tlearn: 0.1305655\ttest: 0.1733886\tbest: 0.1733710 (299)\ttotal: 3.71s\tremaining: 8.61s\n",
            "400:\tlearn: 0.1175948\ttest: 0.1695715\tbest: 0.1695245 (399)\ttotal: 4.58s\tremaining: 6.84s\n",
            "500:\tlearn: 0.1071816\ttest: 0.1675385\tbest: 0.1675385 (500)\ttotal: 5.41s\tremaining: 5.39s\n"
          ]
        }
      ],
      "source": [
        "model.fit(train[X],train[y],eval_set=(val[X],val[y]))"
      ]
    },
    {
      "cell_type": "code",
      "execution_count": null,
      "metadata": {
        "id": "-lVq7CMoQIGV"
      },
      "outputs": [],
      "source": [
        "test['pred_all'] = model.predict(test[X])"
      ]
    },
    {
      "cell_type": "code",
      "execution_count": null,
      "metadata": {
        "id": "N375QmXCRa5D",
        "colab": {
          "base_uri": "https://localhost:8080/",
          "height": 270
        },
        "outputId": "c8b8b42c-08e8-453e-ed83-be901415147e"
      },
      "outputs": [
        {
          "output_type": "execute_result",
          "data": {
            "text/plain": [
              "       action  resource  mgr_id  role_rollup_1  role_rollup_2  role_deptname  \\\n",
              "26626       1      4675    3889         117961         118386         121668   \n",
              "26772       1     19310   68658           5110         117954         117895   \n",
              "10833       1     74829   32457         117961         118327         118320   \n",
              "10718       1     73876   22431         117961         118413         126229   \n",
              "32445       1     72445   25293         117961         118386         123072   \n",
              "\n",
              "       role_title  role_family_desc  role_family  role_code  pred  pred_all  \\\n",
              "26626      126184            140840       118762     126186     1         1   \n",
              "26772      117879            118250        19721     117880     1         1   \n",
              "10833      118321            117906       290919     118322     1         1   \n",
              "10718      118777            279443       308574     118779     1         1   \n",
              "32445      118784            117906       290919     118786     1         1   \n",
              "\n",
              "          score  Action  \n",
              "26626  0.996079       1  \n",
              "26772  0.930216       1  \n",
              "10833  0.981912       1  \n",
              "10718  0.977403       1  \n",
              "32445  0.973793       1  "
            ],
            "text/html": [
              "\n",
              "  <div id=\"df-99288042-8003-4bc7-99f3-967551d43f63\">\n",
              "    <div class=\"colab-df-container\">\n",
              "      <div>\n",
              "<style scoped>\n",
              "    .dataframe tbody tr th:only-of-type {\n",
              "        vertical-align: middle;\n",
              "    }\n",
              "\n",
              "    .dataframe tbody tr th {\n",
              "        vertical-align: top;\n",
              "    }\n",
              "\n",
              "    .dataframe thead th {\n",
              "        text-align: right;\n",
              "    }\n",
              "</style>\n",
              "<table border=\"1\" class=\"dataframe\">\n",
              "  <thead>\n",
              "    <tr style=\"text-align: right;\">\n",
              "      <th></th>\n",
              "      <th>action</th>\n",
              "      <th>resource</th>\n",
              "      <th>mgr_id</th>\n",
              "      <th>role_rollup_1</th>\n",
              "      <th>role_rollup_2</th>\n",
              "      <th>role_deptname</th>\n",
              "      <th>role_title</th>\n",
              "      <th>role_family_desc</th>\n",
              "      <th>role_family</th>\n",
              "      <th>role_code</th>\n",
              "      <th>pred</th>\n",
              "      <th>pred_all</th>\n",
              "      <th>score</th>\n",
              "      <th>Action</th>\n",
              "    </tr>\n",
              "  </thead>\n",
              "  <tbody>\n",
              "    <tr>\n",
              "      <th>26626</th>\n",
              "      <td>1</td>\n",
              "      <td>4675</td>\n",
              "      <td>3889</td>\n",
              "      <td>117961</td>\n",
              "      <td>118386</td>\n",
              "      <td>121668</td>\n",
              "      <td>126184</td>\n",
              "      <td>140840</td>\n",
              "      <td>118762</td>\n",
              "      <td>126186</td>\n",
              "      <td>1</td>\n",
              "      <td>1</td>\n",
              "      <td>0.996079</td>\n",
              "      <td>1</td>\n",
              "    </tr>\n",
              "    <tr>\n",
              "      <th>26772</th>\n",
              "      <td>1</td>\n",
              "      <td>19310</td>\n",
              "      <td>68658</td>\n",
              "      <td>5110</td>\n",
              "      <td>117954</td>\n",
              "      <td>117895</td>\n",
              "      <td>117879</td>\n",
              "      <td>118250</td>\n",
              "      <td>19721</td>\n",
              "      <td>117880</td>\n",
              "      <td>1</td>\n",
              "      <td>1</td>\n",
              "      <td>0.930216</td>\n",
              "      <td>1</td>\n",
              "    </tr>\n",
              "    <tr>\n",
              "      <th>10833</th>\n",
              "      <td>1</td>\n",
              "      <td>74829</td>\n",
              "      <td>32457</td>\n",
              "      <td>117961</td>\n",
              "      <td>118327</td>\n",
              "      <td>118320</td>\n",
              "      <td>118321</td>\n",
              "      <td>117906</td>\n",
              "      <td>290919</td>\n",
              "      <td>118322</td>\n",
              "      <td>1</td>\n",
              "      <td>1</td>\n",
              "      <td>0.981912</td>\n",
              "      <td>1</td>\n",
              "    </tr>\n",
              "    <tr>\n",
              "      <th>10718</th>\n",
              "      <td>1</td>\n",
              "      <td>73876</td>\n",
              "      <td>22431</td>\n",
              "      <td>117961</td>\n",
              "      <td>118413</td>\n",
              "      <td>126229</td>\n",
              "      <td>118777</td>\n",
              "      <td>279443</td>\n",
              "      <td>308574</td>\n",
              "      <td>118779</td>\n",
              "      <td>1</td>\n",
              "      <td>1</td>\n",
              "      <td>0.977403</td>\n",
              "      <td>1</td>\n",
              "    </tr>\n",
              "    <tr>\n",
              "      <th>32445</th>\n",
              "      <td>1</td>\n",
              "      <td>72445</td>\n",
              "      <td>25293</td>\n",
              "      <td>117961</td>\n",
              "      <td>118386</td>\n",
              "      <td>123072</td>\n",
              "      <td>118784</td>\n",
              "      <td>117906</td>\n",
              "      <td>290919</td>\n",
              "      <td>118786</td>\n",
              "      <td>1</td>\n",
              "      <td>1</td>\n",
              "      <td>0.973793</td>\n",
              "      <td>1</td>\n",
              "    </tr>\n",
              "  </tbody>\n",
              "</table>\n",
              "</div>\n",
              "      <button class=\"colab-df-convert\" onclick=\"convertToInteractive('df-99288042-8003-4bc7-99f3-967551d43f63')\"\n",
              "              title=\"Convert this dataframe to an interactive table.\"\n",
              "              style=\"display:none;\">\n",
              "        \n",
              "  <svg xmlns=\"http://www.w3.org/2000/svg\" height=\"24px\"viewBox=\"0 0 24 24\"\n",
              "       width=\"24px\">\n",
              "    <path d=\"M0 0h24v24H0V0z\" fill=\"none\"/>\n",
              "    <path d=\"M18.56 5.44l.94 2.06.94-2.06 2.06-.94-2.06-.94-.94-2.06-.94 2.06-2.06.94zm-11 1L8.5 8.5l.94-2.06 2.06-.94-2.06-.94L8.5 2.5l-.94 2.06-2.06.94zm10 10l.94 2.06.94-2.06 2.06-.94-2.06-.94-.94-2.06-.94 2.06-2.06.94z\"/><path d=\"M17.41 7.96l-1.37-1.37c-.4-.4-.92-.59-1.43-.59-.52 0-1.04.2-1.43.59L10.3 9.45l-7.72 7.72c-.78.78-.78 2.05 0 2.83L4 21.41c.39.39.9.59 1.41.59.51 0 1.02-.2 1.41-.59l7.78-7.78 2.81-2.81c.8-.78.8-2.07 0-2.86zM5.41 20L4 18.59l7.72-7.72 1.47 1.35L5.41 20z\"/>\n",
              "  </svg>\n",
              "      </button>\n",
              "      \n",
              "  <style>\n",
              "    .colab-df-container {\n",
              "      display:flex;\n",
              "      flex-wrap:wrap;\n",
              "      gap: 12px;\n",
              "    }\n",
              "\n",
              "    .colab-df-convert {\n",
              "      background-color: #E8F0FE;\n",
              "      border: none;\n",
              "      border-radius: 50%;\n",
              "      cursor: pointer;\n",
              "      display: none;\n",
              "      fill: #1967D2;\n",
              "      height: 32px;\n",
              "      padding: 0 0 0 0;\n",
              "      width: 32px;\n",
              "    }\n",
              "\n",
              "    .colab-df-convert:hover {\n",
              "      background-color: #E2EBFA;\n",
              "      box-shadow: 0px 1px 2px rgba(60, 64, 67, 0.3), 0px 1px 3px 1px rgba(60, 64, 67, 0.15);\n",
              "      fill: #174EA6;\n",
              "    }\n",
              "\n",
              "    [theme=dark] .colab-df-convert {\n",
              "      background-color: #3B4455;\n",
              "      fill: #D2E3FC;\n",
              "    }\n",
              "\n",
              "    [theme=dark] .colab-df-convert:hover {\n",
              "      background-color: #434B5C;\n",
              "      box-shadow: 0px 1px 3px 1px rgba(0, 0, 0, 0.15);\n",
              "      filter: drop-shadow(0px 1px 2px rgba(0, 0, 0, 0.3));\n",
              "      fill: #FFFFFF;\n",
              "    }\n",
              "  </style>\n",
              "\n",
              "      <script>\n",
              "        const buttonEl =\n",
              "          document.querySelector('#df-99288042-8003-4bc7-99f3-967551d43f63 button.colab-df-convert');\n",
              "        buttonEl.style.display =\n",
              "          google.colab.kernel.accessAllowed ? 'block' : 'none';\n",
              "\n",
              "        async function convertToInteractive(key) {\n",
              "          const element = document.querySelector('#df-99288042-8003-4bc7-99f3-967551d43f63');\n",
              "          const dataTable =\n",
              "            await google.colab.kernel.invokeFunction('convertToInteractive',\n",
              "                                                     [key], {});\n",
              "          if (!dataTable) return;\n",
              "\n",
              "          const docLinkHtml = 'Like what you see? Visit the ' +\n",
              "            '<a target=\"_blank\" href=https://colab.research.google.com/notebooks/data_table.ipynb>data table notebook</a>'\n",
              "            + ' to learn more about interactive tables.';\n",
              "          element.innerHTML = '';\n",
              "          dataTable['output_type'] = 'display_data';\n",
              "          await google.colab.output.renderOutput(dataTable, element);\n",
              "          const docLink = document.createElement('div');\n",
              "          docLink.innerHTML = docLinkHtml;\n",
              "          element.appendChild(docLink);\n",
              "        }\n",
              "      </script>\n",
              "    </div>\n",
              "  </div>\n",
              "  "
            ]
          },
          "metadata": {},
          "execution_count": 55
        }
      ],
      "source": [
        "test.head()"
      ]
    },
    {
      "cell_type": "markdown",
      "metadata": {
        "id": "wlNfEe5fRdJj"
      },
      "source": [
        "#Test"
      ]
    },
    {
      "cell_type": "code",
      "execution_count": null,
      "metadata": {
        "id": "TXdeNlsNRjt0"
      },
      "outputs": [],
      "source": [
        "dff = pd.read_csv('/content/test.csv')"
      ]
    },
    {
      "cell_type": "code",
      "execution_count": null,
      "metadata": {
        "id": "bFUX47GsRr69"
      },
      "outputs": [],
      "source": [
        "dff.head()"
      ]
    },
    {
      "cell_type": "code",
      "execution_count": null,
      "metadata": {
        "id": "y9evqZSGR28X"
      },
      "outputs": [],
      "source": [
        "len(dff)"
      ]
    },
    {
      "cell_type": "code",
      "execution_count": null,
      "metadata": {
        "id": "BE1zR0lsR28e"
      },
      "outputs": [],
      "source": [
        "dff.columns = dff.columns.str.lower()"
      ]
    },
    {
      "cell_type": "code",
      "execution_count": null,
      "metadata": {
        "id": "AJt6yCyyR28h"
      },
      "outputs": [],
      "source": [
        "dff.isna().mean()"
      ]
    },
    {
      "cell_type": "code",
      "execution_count": null,
      "metadata": {
        "id": "h81fpBIrSAe4"
      },
      "outputs": [],
      "source": [
        "X = ['role_family','role_family_desc','role_deptname','resource','mgr_id','role_rollup_1','role_rollup_2','role_title','role_code']\n",
        "y = ['action']"
      ]
    },
    {
      "cell_type": "code",
      "execution_count": null,
      "metadata": {
        "id": "EEu1W_lJSAe-"
      },
      "outputs": [],
      "source": [
        "params = {'verbose':100,\n",
        "          'random_seed':42,\n",
        "          'learning_rate':0.10}"
      ]
    },
    {
      "cell_type": "code",
      "execution_count": null,
      "metadata": {
        "id": "KkJ1FdXmSAfB"
      },
      "outputs": [],
      "source": [
        "model = CatBoostClassifier(**params)"
      ]
    },
    {
      "cell_type": "code",
      "execution_count": null,
      "metadata": {
        "colab": {
          "base_uri": "https://localhost:8080/"
        },
        "id": "FTTQOU4nSAfE",
        "outputId": "c60a190c-980a-48a2-c5fc-0a35f28b3e6e"
      },
      "outputs": [
        {
          "metadata": {
            "tags": null
          },
          "name": "stdout",
          "output_type": "stream",
          "text": [
            "0:\tlearn: 0.5773325\ttest: 0.5776275\tbest: 0.5776275 (0)\ttotal: 24.5ms\tremaining: 24.5s\n",
            "100:\tlearn: 0.1718685\ttest: 0.1893371\tbest: 0.1893371 (100)\ttotal: 2.05s\tremaining: 18.3s\n",
            "200:\tlearn: 0.1474351\ttest: 0.1786174\tbest: 0.1786174 (200)\ttotal: 4.58s\tremaining: 18.2s\n",
            "300:\tlearn: 0.1305655\ttest: 0.1733886\tbest: 0.1733710 (299)\ttotal: 6.48s\tremaining: 15.1s\n",
            "400:\tlearn: 0.1175948\ttest: 0.1695715\tbest: 0.1695245 (399)\ttotal: 8.56s\tremaining: 12.8s\n",
            "500:\tlearn: 0.1071816\ttest: 0.1675385\tbest: 0.1675385 (500)\ttotal: 10.7s\tremaining: 10.6s\n",
            "600:\tlearn: 0.0982697\ttest: 0.1666070\tbest: 0.1665211 (599)\ttotal: 13.4s\tremaining: 8.92s\n",
            "700:\tlearn: 0.0909381\ttest: 0.1659736\tbest: 0.1659708 (627)\ttotal: 15.8s\tremaining: 6.73s\n",
            "800:\tlearn: 0.0846977\ttest: 0.1659764\tbest: 0.1657051 (751)\ttotal: 17.9s\tremaining: 4.44s\n",
            "900:\tlearn: 0.0784247\ttest: 0.1667155\tbest: 0.1657051 (751)\ttotal: 18.8s\tremaining: 2.07s\n",
            "999:\tlearn: 0.0736799\ttest: 0.1673026\tbest: 0.1657051 (751)\ttotal: 19.6s\tremaining: 0us\n",
            "\n",
            "bestTest = 0.1657051318\n",
            "bestIteration = 751\n",
            "\n",
            "Shrink model to first 752 iterations.\n"
          ]
        },
        {
          "data": {
            "text/plain": [
              "<catboost.core.CatBoostClassifier at 0x7fa1686f9110>"
            ]
          },
          "execution_count": null,
          "metadata": {},
          "output_type": "execute_result"
        }
      ],
      "source": [
        "model.fit(train[X],train[y],eval_set=(val[X],val[y]))"
      ]
    },
    {
      "cell_type": "code",
      "execution_count": null,
      "metadata": {
        "id": "cP5HrqVSS2s3"
      },
      "outputs": [],
      "source": [
        "dff['score'] = model.predict_proba(dff[X])[:,1]"
      ]
    },
    {
      "cell_type": "code",
      "source": [
        "test['score'] = model.predict_proba(test[X])[:,1]"
      ],
      "metadata": {
        "id": "jLnp0spA1Bfr"
      },
      "execution_count": null,
      "outputs": []
    },
    {
      "cell_type": "code",
      "execution_count": null,
      "metadata": {
        "colab": {
          "base_uri": "https://localhost:8080/",
          "height": 206
        },
        "id": "rRNHtQwGUB2b",
        "outputId": "950e5d23-3052-4a26-aa7b-e70d065d06be"
      },
      "outputs": [
        {
          "data": {
            "text/html": [
              "\n",
              "  <div id=\"df-85e249b5-faf1-4640-87af-e706a061df9d\">\n",
              "    <div class=\"colab-df-container\">\n",
              "      <div>\n",
              "<style scoped>\n",
              "    .dataframe tbody tr th:only-of-type {\n",
              "        vertical-align: middle;\n",
              "    }\n",
              "\n",
              "    .dataframe tbody tr th {\n",
              "        vertical-align: top;\n",
              "    }\n",
              "\n",
              "    .dataframe thead th {\n",
              "        text-align: right;\n",
              "    }\n",
              "</style>\n",
              "<table border=\"1\" class=\"dataframe\">\n",
              "  <thead>\n",
              "    <tr style=\"text-align: right;\">\n",
              "      <th></th>\n",
              "      <th>id</th>\n",
              "      <th>resource</th>\n",
              "      <th>mgr_id</th>\n",
              "      <th>role_rollup_1</th>\n",
              "      <th>role_rollup_2</th>\n",
              "      <th>role_deptname</th>\n",
              "      <th>role_title</th>\n",
              "      <th>role_family_desc</th>\n",
              "      <th>role_family</th>\n",
              "      <th>role_code</th>\n",
              "      <th>score</th>\n",
              "    </tr>\n",
              "  </thead>\n",
              "  <tbody>\n",
              "    <tr>\n",
              "      <th>0</th>\n",
              "      <td>1</td>\n",
              "      <td>78766</td>\n",
              "      <td>72734</td>\n",
              "      <td>118079</td>\n",
              "      <td>118080</td>\n",
              "      <td>117878</td>\n",
              "      <td>117879</td>\n",
              "      <td>118177</td>\n",
              "      <td>19721</td>\n",
              "      <td>117880</td>\n",
              "      <td>0.928948</td>\n",
              "    </tr>\n",
              "    <tr>\n",
              "      <th>1</th>\n",
              "      <td>2</td>\n",
              "      <td>40644</td>\n",
              "      <td>4378</td>\n",
              "      <td>117961</td>\n",
              "      <td>118327</td>\n",
              "      <td>118507</td>\n",
              "      <td>118863</td>\n",
              "      <td>122008</td>\n",
              "      <td>118398</td>\n",
              "      <td>118865</td>\n",
              "      <td>0.974826</td>\n",
              "    </tr>\n",
              "    <tr>\n",
              "      <th>2</th>\n",
              "      <td>3</td>\n",
              "      <td>75443</td>\n",
              "      <td>2395</td>\n",
              "      <td>117961</td>\n",
              "      <td>118300</td>\n",
              "      <td>119488</td>\n",
              "      <td>118172</td>\n",
              "      <td>301534</td>\n",
              "      <td>249618</td>\n",
              "      <td>118175</td>\n",
              "      <td>0.980810</td>\n",
              "    </tr>\n",
              "    <tr>\n",
              "      <th>3</th>\n",
              "      <td>4</td>\n",
              "      <td>43219</td>\n",
              "      <td>19986</td>\n",
              "      <td>117961</td>\n",
              "      <td>118225</td>\n",
              "      <td>118403</td>\n",
              "      <td>120773</td>\n",
              "      <td>136187</td>\n",
              "      <td>118960</td>\n",
              "      <td>120774</td>\n",
              "      <td>0.979883</td>\n",
              "    </tr>\n",
              "    <tr>\n",
              "      <th>4</th>\n",
              "      <td>5</td>\n",
              "      <td>42093</td>\n",
              "      <td>50015</td>\n",
              "      <td>117961</td>\n",
              "      <td>118343</td>\n",
              "      <td>119598</td>\n",
              "      <td>118422</td>\n",
              "      <td>300136</td>\n",
              "      <td>118424</td>\n",
              "      <td>118425</td>\n",
              "      <td>0.993727</td>\n",
              "    </tr>\n",
              "  </tbody>\n",
              "</table>\n",
              "</div>\n",
              "      <button class=\"colab-df-convert\" onclick=\"convertToInteractive('df-85e249b5-faf1-4640-87af-e706a061df9d')\"\n",
              "              title=\"Convert this dataframe to an interactive table.\"\n",
              "              style=\"display:none;\">\n",
              "        \n",
              "  <svg xmlns=\"http://www.w3.org/2000/svg\" height=\"24px\"viewBox=\"0 0 24 24\"\n",
              "       width=\"24px\">\n",
              "    <path d=\"M0 0h24v24H0V0z\" fill=\"none\"/>\n",
              "    <path d=\"M18.56 5.44l.94 2.06.94-2.06 2.06-.94-2.06-.94-.94-2.06-.94 2.06-2.06.94zm-11 1L8.5 8.5l.94-2.06 2.06-.94-2.06-.94L8.5 2.5l-.94 2.06-2.06.94zm10 10l.94 2.06.94-2.06 2.06-.94-2.06-.94-.94-2.06-.94 2.06-2.06.94z\"/><path d=\"M17.41 7.96l-1.37-1.37c-.4-.4-.92-.59-1.43-.59-.52 0-1.04.2-1.43.59L10.3 9.45l-7.72 7.72c-.78.78-.78 2.05 0 2.83L4 21.41c.39.39.9.59 1.41.59.51 0 1.02-.2 1.41-.59l7.78-7.78 2.81-2.81c.8-.78.8-2.07 0-2.86zM5.41 20L4 18.59l7.72-7.72 1.47 1.35L5.41 20z\"/>\n",
              "  </svg>\n",
              "      </button>\n",
              "      \n",
              "  <style>\n",
              "    .colab-df-container {\n",
              "      display:flex;\n",
              "      flex-wrap:wrap;\n",
              "      gap: 12px;\n",
              "    }\n",
              "\n",
              "    .colab-df-convert {\n",
              "      background-color: #E8F0FE;\n",
              "      border: none;\n",
              "      border-radius: 50%;\n",
              "      cursor: pointer;\n",
              "      display: none;\n",
              "      fill: #1967D2;\n",
              "      height: 32px;\n",
              "      padding: 0 0 0 0;\n",
              "      width: 32px;\n",
              "    }\n",
              "\n",
              "    .colab-df-convert:hover {\n",
              "      background-color: #E2EBFA;\n",
              "      box-shadow: 0px 1px 2px rgba(60, 64, 67, 0.3), 0px 1px 3px 1px rgba(60, 64, 67, 0.15);\n",
              "      fill: #174EA6;\n",
              "    }\n",
              "\n",
              "    [theme=dark] .colab-df-convert {\n",
              "      background-color: #3B4455;\n",
              "      fill: #D2E3FC;\n",
              "    }\n",
              "\n",
              "    [theme=dark] .colab-df-convert:hover {\n",
              "      background-color: #434B5C;\n",
              "      box-shadow: 0px 1px 3px 1px rgba(0, 0, 0, 0.15);\n",
              "      filter: drop-shadow(0px 1px 2px rgba(0, 0, 0, 0.3));\n",
              "      fill: #FFFFFF;\n",
              "    }\n",
              "  </style>\n",
              "\n",
              "      <script>\n",
              "        const buttonEl =\n",
              "          document.querySelector('#df-85e249b5-faf1-4640-87af-e706a061df9d button.colab-df-convert');\n",
              "        buttonEl.style.display =\n",
              "          google.colab.kernel.accessAllowed ? 'block' : 'none';\n",
              "\n",
              "        async function convertToInteractive(key) {\n",
              "          const element = document.querySelector('#df-85e249b5-faf1-4640-87af-e706a061df9d');\n",
              "          const dataTable =\n",
              "            await google.colab.kernel.invokeFunction('convertToInteractive',\n",
              "                                                     [key], {});\n",
              "          if (!dataTable) return;\n",
              "\n",
              "          const docLinkHtml = 'Like what you see? Visit the ' +\n",
              "            '<a target=\"_blank\" href=https://colab.research.google.com/notebooks/data_table.ipynb>data table notebook</a>'\n",
              "            + ' to learn more about interactive tables.';\n",
              "          element.innerHTML = '';\n",
              "          dataTable['output_type'] = 'display_data';\n",
              "          await google.colab.output.renderOutput(dataTable, element);\n",
              "          const docLink = document.createElement('div');\n",
              "          docLink.innerHTML = docLinkHtml;\n",
              "          element.appendChild(docLink);\n",
              "        }\n",
              "      </script>\n",
              "    </div>\n",
              "  </div>\n",
              "  "
            ],
            "text/plain": [
              "   id  resource  mgr_id  role_rollup_1  role_rollup_2  role_deptname  \\\n",
              "0   1     78766   72734         118079         118080         117878   \n",
              "1   2     40644    4378         117961         118327         118507   \n",
              "2   3     75443    2395         117961         118300         119488   \n",
              "3   4     43219   19986         117961         118225         118403   \n",
              "4   5     42093   50015         117961         118343         119598   \n",
              "\n",
              "   role_title  role_family_desc  role_family  role_code     score  \n",
              "0      117879            118177        19721     117880  0.928948  \n",
              "1      118863            122008       118398     118865  0.974826  \n",
              "2      118172            301534       249618     118175  0.980810  \n",
              "3      120773            136187       118960     120774  0.979883  \n",
              "4      118422            300136       118424     118425  0.993727  "
            ]
          },
          "execution_count": null,
          "metadata": {},
          "output_type": "execute_result"
        }
      ],
      "source": [
        "dff.head()"
      ]
    },
    {
      "cell_type": "code",
      "execution_count": null,
      "metadata": {
        "id": "hdcbXpV1RWI7"
      },
      "outputs": [],
      "source": [
        "dff['Action'] = (dff['score'] > 0.5) * 1"
      ]
    },
    {
      "cell_type": "code",
      "source": [
        "test['Action'] = (test['score'] > 0.5) * 1"
      ],
      "metadata": {
        "id": "1OwmVsWZ1xVZ"
      },
      "execution_count": null,
      "outputs": []
    },
    {
      "cell_type": "code",
      "execution_count": null,
      "metadata": {
        "colab": {
          "base_uri": "https://localhost:8080/",
          "height": 206
        },
        "id": "oKfP6Q-bRoAa",
        "outputId": "790fe3d3-e4c4-4851-e6af-a03a2a1762c4"
      },
      "outputs": [
        {
          "output_type": "execute_result",
          "data": {
            "text/plain": [
              "   id  resource  mgr_id  role_rollup_1  role_rollup_2  role_deptname  \\\n",
              "0   1     78766   72734         118079         118080         117878   \n",
              "1   2     40644    4378         117961         118327         118507   \n",
              "2   3     75443    2395         117961         118300         119488   \n",
              "3   4     43219   19986         117961         118225         118403   \n",
              "4   5     42093   50015         117961         118343         119598   \n",
              "\n",
              "   role_title  role_family_desc  role_family  role_code     score  Action  \n",
              "0      117879            118177        19721     117880  0.928948       1  \n",
              "1      118863            122008       118398     118865  0.974826       1  \n",
              "2      118172            301534       249618     118175  0.980810       1  \n",
              "3      120773            136187       118960     120774  0.979883       1  \n",
              "4      118422            300136       118424     118425  0.993727       1  "
            ],
            "text/html": [
              "\n",
              "  <div id=\"df-3e1592bc-e3a5-4bb4-ab6f-d96f99580ee8\">\n",
              "    <div class=\"colab-df-container\">\n",
              "      <div>\n",
              "<style scoped>\n",
              "    .dataframe tbody tr th:only-of-type {\n",
              "        vertical-align: middle;\n",
              "    }\n",
              "\n",
              "    .dataframe tbody tr th {\n",
              "        vertical-align: top;\n",
              "    }\n",
              "\n",
              "    .dataframe thead th {\n",
              "        text-align: right;\n",
              "    }\n",
              "</style>\n",
              "<table border=\"1\" class=\"dataframe\">\n",
              "  <thead>\n",
              "    <tr style=\"text-align: right;\">\n",
              "      <th></th>\n",
              "      <th>id</th>\n",
              "      <th>resource</th>\n",
              "      <th>mgr_id</th>\n",
              "      <th>role_rollup_1</th>\n",
              "      <th>role_rollup_2</th>\n",
              "      <th>role_deptname</th>\n",
              "      <th>role_title</th>\n",
              "      <th>role_family_desc</th>\n",
              "      <th>role_family</th>\n",
              "      <th>role_code</th>\n",
              "      <th>score</th>\n",
              "      <th>Action</th>\n",
              "    </tr>\n",
              "  </thead>\n",
              "  <tbody>\n",
              "    <tr>\n",
              "      <th>0</th>\n",
              "      <td>1</td>\n",
              "      <td>78766</td>\n",
              "      <td>72734</td>\n",
              "      <td>118079</td>\n",
              "      <td>118080</td>\n",
              "      <td>117878</td>\n",
              "      <td>117879</td>\n",
              "      <td>118177</td>\n",
              "      <td>19721</td>\n",
              "      <td>117880</td>\n",
              "      <td>0.928948</td>\n",
              "      <td>1</td>\n",
              "    </tr>\n",
              "    <tr>\n",
              "      <th>1</th>\n",
              "      <td>2</td>\n",
              "      <td>40644</td>\n",
              "      <td>4378</td>\n",
              "      <td>117961</td>\n",
              "      <td>118327</td>\n",
              "      <td>118507</td>\n",
              "      <td>118863</td>\n",
              "      <td>122008</td>\n",
              "      <td>118398</td>\n",
              "      <td>118865</td>\n",
              "      <td>0.974826</td>\n",
              "      <td>1</td>\n",
              "    </tr>\n",
              "    <tr>\n",
              "      <th>2</th>\n",
              "      <td>3</td>\n",
              "      <td>75443</td>\n",
              "      <td>2395</td>\n",
              "      <td>117961</td>\n",
              "      <td>118300</td>\n",
              "      <td>119488</td>\n",
              "      <td>118172</td>\n",
              "      <td>301534</td>\n",
              "      <td>249618</td>\n",
              "      <td>118175</td>\n",
              "      <td>0.980810</td>\n",
              "      <td>1</td>\n",
              "    </tr>\n",
              "    <tr>\n",
              "      <th>3</th>\n",
              "      <td>4</td>\n",
              "      <td>43219</td>\n",
              "      <td>19986</td>\n",
              "      <td>117961</td>\n",
              "      <td>118225</td>\n",
              "      <td>118403</td>\n",
              "      <td>120773</td>\n",
              "      <td>136187</td>\n",
              "      <td>118960</td>\n",
              "      <td>120774</td>\n",
              "      <td>0.979883</td>\n",
              "      <td>1</td>\n",
              "    </tr>\n",
              "    <tr>\n",
              "      <th>4</th>\n",
              "      <td>5</td>\n",
              "      <td>42093</td>\n",
              "      <td>50015</td>\n",
              "      <td>117961</td>\n",
              "      <td>118343</td>\n",
              "      <td>119598</td>\n",
              "      <td>118422</td>\n",
              "      <td>300136</td>\n",
              "      <td>118424</td>\n",
              "      <td>118425</td>\n",
              "      <td>0.993727</td>\n",
              "      <td>1</td>\n",
              "    </tr>\n",
              "  </tbody>\n",
              "</table>\n",
              "</div>\n",
              "      <button class=\"colab-df-convert\" onclick=\"convertToInteractive('df-3e1592bc-e3a5-4bb4-ab6f-d96f99580ee8')\"\n",
              "              title=\"Convert this dataframe to an interactive table.\"\n",
              "              style=\"display:none;\">\n",
              "        \n",
              "  <svg xmlns=\"http://www.w3.org/2000/svg\" height=\"24px\"viewBox=\"0 0 24 24\"\n",
              "       width=\"24px\">\n",
              "    <path d=\"M0 0h24v24H0V0z\" fill=\"none\"/>\n",
              "    <path d=\"M18.56 5.44l.94 2.06.94-2.06 2.06-.94-2.06-.94-.94-2.06-.94 2.06-2.06.94zm-11 1L8.5 8.5l.94-2.06 2.06-.94-2.06-.94L8.5 2.5l-.94 2.06-2.06.94zm10 10l.94 2.06.94-2.06 2.06-.94-2.06-.94-.94-2.06-.94 2.06-2.06.94z\"/><path d=\"M17.41 7.96l-1.37-1.37c-.4-.4-.92-.59-1.43-.59-.52 0-1.04.2-1.43.59L10.3 9.45l-7.72 7.72c-.78.78-.78 2.05 0 2.83L4 21.41c.39.39.9.59 1.41.59.51 0 1.02-.2 1.41-.59l7.78-7.78 2.81-2.81c.8-.78.8-2.07 0-2.86zM5.41 20L4 18.59l7.72-7.72 1.47 1.35L5.41 20z\"/>\n",
              "  </svg>\n",
              "      </button>\n",
              "      \n",
              "  <style>\n",
              "    .colab-df-container {\n",
              "      display:flex;\n",
              "      flex-wrap:wrap;\n",
              "      gap: 12px;\n",
              "    }\n",
              "\n",
              "    .colab-df-convert {\n",
              "      background-color: #E8F0FE;\n",
              "      border: none;\n",
              "      border-radius: 50%;\n",
              "      cursor: pointer;\n",
              "      display: none;\n",
              "      fill: #1967D2;\n",
              "      height: 32px;\n",
              "      padding: 0 0 0 0;\n",
              "      width: 32px;\n",
              "    }\n",
              "\n",
              "    .colab-df-convert:hover {\n",
              "      background-color: #E2EBFA;\n",
              "      box-shadow: 0px 1px 2px rgba(60, 64, 67, 0.3), 0px 1px 3px 1px rgba(60, 64, 67, 0.15);\n",
              "      fill: #174EA6;\n",
              "    }\n",
              "\n",
              "    [theme=dark] .colab-df-convert {\n",
              "      background-color: #3B4455;\n",
              "      fill: #D2E3FC;\n",
              "    }\n",
              "\n",
              "    [theme=dark] .colab-df-convert:hover {\n",
              "      background-color: #434B5C;\n",
              "      box-shadow: 0px 1px 3px 1px rgba(0, 0, 0, 0.15);\n",
              "      filter: drop-shadow(0px 1px 2px rgba(0, 0, 0, 0.3));\n",
              "      fill: #FFFFFF;\n",
              "    }\n",
              "  </style>\n",
              "\n",
              "      <script>\n",
              "        const buttonEl =\n",
              "          document.querySelector('#df-3e1592bc-e3a5-4bb4-ab6f-d96f99580ee8 button.colab-df-convert');\n",
              "        buttonEl.style.display =\n",
              "          google.colab.kernel.accessAllowed ? 'block' : 'none';\n",
              "\n",
              "        async function convertToInteractive(key) {\n",
              "          const element = document.querySelector('#df-3e1592bc-e3a5-4bb4-ab6f-d96f99580ee8');\n",
              "          const dataTable =\n",
              "            await google.colab.kernel.invokeFunction('convertToInteractive',\n",
              "                                                     [key], {});\n",
              "          if (!dataTable) return;\n",
              "\n",
              "          const docLinkHtml = 'Like what you see? Visit the ' +\n",
              "            '<a target=\"_blank\" href=https://colab.research.google.com/notebooks/data_table.ipynb>data table notebook</a>'\n",
              "            + ' to learn more about interactive tables.';\n",
              "          element.innerHTML = '';\n",
              "          dataTable['output_type'] = 'display_data';\n",
              "          await google.colab.output.renderOutput(dataTable, element);\n",
              "          const docLink = document.createElement('div');\n",
              "          docLink.innerHTML = docLinkHtml;\n",
              "          element.appendChild(docLink);\n",
              "        }\n",
              "      </script>\n",
              "    </div>\n",
              "  </div>\n",
              "  "
            ]
          },
          "metadata": {},
          "execution_count": 54
        }
      ],
      "source": [
        "dff.head()"
      ]
    },
    {
      "cell_type": "code",
      "execution_count": null,
      "metadata": {
        "id": "6zY4kjF9UCrx"
      },
      "outputs": [],
      "source": [
        "df_new =dff[['id','Action']].copy()"
      ]
    },
    {
      "cell_type": "code",
      "execution_count": null,
      "metadata": {
        "colab": {
          "base_uri": "https://localhost:8080/",
          "height": 206
        },
        "id": "O2GEXHPxdeUO",
        "outputId": "3cca53ce-7194-48d1-83ce-7bc038fe3b8d"
      },
      "outputs": [
        {
          "output_type": "execute_result",
          "data": {
            "text/plain": [
              "   id  Action\n",
              "0   1       1\n",
              "1   2       1\n",
              "2   3       1\n",
              "3   4       1\n",
              "4   5       1"
            ],
            "text/html": [
              "\n",
              "  <div id=\"df-4ef56ae8-cf79-49db-aadc-12ba885767a7\">\n",
              "    <div class=\"colab-df-container\">\n",
              "      <div>\n",
              "<style scoped>\n",
              "    .dataframe tbody tr th:only-of-type {\n",
              "        vertical-align: middle;\n",
              "    }\n",
              "\n",
              "    .dataframe tbody tr th {\n",
              "        vertical-align: top;\n",
              "    }\n",
              "\n",
              "    .dataframe thead th {\n",
              "        text-align: right;\n",
              "    }\n",
              "</style>\n",
              "<table border=\"1\" class=\"dataframe\">\n",
              "  <thead>\n",
              "    <tr style=\"text-align: right;\">\n",
              "      <th></th>\n",
              "      <th>id</th>\n",
              "      <th>Action</th>\n",
              "    </tr>\n",
              "  </thead>\n",
              "  <tbody>\n",
              "    <tr>\n",
              "      <th>0</th>\n",
              "      <td>1</td>\n",
              "      <td>1</td>\n",
              "    </tr>\n",
              "    <tr>\n",
              "      <th>1</th>\n",
              "      <td>2</td>\n",
              "      <td>1</td>\n",
              "    </tr>\n",
              "    <tr>\n",
              "      <th>2</th>\n",
              "      <td>3</td>\n",
              "      <td>1</td>\n",
              "    </tr>\n",
              "    <tr>\n",
              "      <th>3</th>\n",
              "      <td>4</td>\n",
              "      <td>1</td>\n",
              "    </tr>\n",
              "    <tr>\n",
              "      <th>4</th>\n",
              "      <td>5</td>\n",
              "      <td>1</td>\n",
              "    </tr>\n",
              "  </tbody>\n",
              "</table>\n",
              "</div>\n",
              "      <button class=\"colab-df-convert\" onclick=\"convertToInteractive('df-4ef56ae8-cf79-49db-aadc-12ba885767a7')\"\n",
              "              title=\"Convert this dataframe to an interactive table.\"\n",
              "              style=\"display:none;\">\n",
              "        \n",
              "  <svg xmlns=\"http://www.w3.org/2000/svg\" height=\"24px\"viewBox=\"0 0 24 24\"\n",
              "       width=\"24px\">\n",
              "    <path d=\"M0 0h24v24H0V0z\" fill=\"none\"/>\n",
              "    <path d=\"M18.56 5.44l.94 2.06.94-2.06 2.06-.94-2.06-.94-.94-2.06-.94 2.06-2.06.94zm-11 1L8.5 8.5l.94-2.06 2.06-.94-2.06-.94L8.5 2.5l-.94 2.06-2.06.94zm10 10l.94 2.06.94-2.06 2.06-.94-2.06-.94-.94-2.06-.94 2.06-2.06.94z\"/><path d=\"M17.41 7.96l-1.37-1.37c-.4-.4-.92-.59-1.43-.59-.52 0-1.04.2-1.43.59L10.3 9.45l-7.72 7.72c-.78.78-.78 2.05 0 2.83L4 21.41c.39.39.9.59 1.41.59.51 0 1.02-.2 1.41-.59l7.78-7.78 2.81-2.81c.8-.78.8-2.07 0-2.86zM5.41 20L4 18.59l7.72-7.72 1.47 1.35L5.41 20z\"/>\n",
              "  </svg>\n",
              "      </button>\n",
              "      \n",
              "  <style>\n",
              "    .colab-df-container {\n",
              "      display:flex;\n",
              "      flex-wrap:wrap;\n",
              "      gap: 12px;\n",
              "    }\n",
              "\n",
              "    .colab-df-convert {\n",
              "      background-color: #E8F0FE;\n",
              "      border: none;\n",
              "      border-radius: 50%;\n",
              "      cursor: pointer;\n",
              "      display: none;\n",
              "      fill: #1967D2;\n",
              "      height: 32px;\n",
              "      padding: 0 0 0 0;\n",
              "      width: 32px;\n",
              "    }\n",
              "\n",
              "    .colab-df-convert:hover {\n",
              "      background-color: #E2EBFA;\n",
              "      box-shadow: 0px 1px 2px rgba(60, 64, 67, 0.3), 0px 1px 3px 1px rgba(60, 64, 67, 0.15);\n",
              "      fill: #174EA6;\n",
              "    }\n",
              "\n",
              "    [theme=dark] .colab-df-convert {\n",
              "      background-color: #3B4455;\n",
              "      fill: #D2E3FC;\n",
              "    }\n",
              "\n",
              "    [theme=dark] .colab-df-convert:hover {\n",
              "      background-color: #434B5C;\n",
              "      box-shadow: 0px 1px 3px 1px rgba(0, 0, 0, 0.15);\n",
              "      filter: drop-shadow(0px 1px 2px rgba(0, 0, 0, 0.3));\n",
              "      fill: #FFFFFF;\n",
              "    }\n",
              "  </style>\n",
              "\n",
              "      <script>\n",
              "        const buttonEl =\n",
              "          document.querySelector('#df-4ef56ae8-cf79-49db-aadc-12ba885767a7 button.colab-df-convert');\n",
              "        buttonEl.style.display =\n",
              "          google.colab.kernel.accessAllowed ? 'block' : 'none';\n",
              "\n",
              "        async function convertToInteractive(key) {\n",
              "          const element = document.querySelector('#df-4ef56ae8-cf79-49db-aadc-12ba885767a7');\n",
              "          const dataTable =\n",
              "            await google.colab.kernel.invokeFunction('convertToInteractive',\n",
              "                                                     [key], {});\n",
              "          if (!dataTable) return;\n",
              "\n",
              "          const docLinkHtml = 'Like what you see? Visit the ' +\n",
              "            '<a target=\"_blank\" href=https://colab.research.google.com/notebooks/data_table.ipynb>data table notebook</a>'\n",
              "            + ' to learn more about interactive tables.';\n",
              "          element.innerHTML = '';\n",
              "          dataTable['output_type'] = 'display_data';\n",
              "          await google.colab.output.renderOutput(dataTable, element);\n",
              "          const docLink = document.createElement('div');\n",
              "          docLink.innerHTML = docLinkHtml;\n",
              "          element.appendChild(docLink);\n",
              "        }\n",
              "      </script>\n",
              "    </div>\n",
              "  </div>\n",
              "  "
            ]
          },
          "metadata": {},
          "execution_count": 73
        }
      ],
      "source": [
        "df_new.head()"
      ]
    },
    {
      "cell_type": "code",
      "execution_count": null,
      "metadata": {
        "id": "ZuPJieL-eMa2"
      },
      "outputs": [],
      "source": [
        "df_new.columns = ['Id', 'Action']"
      ]
    },
    {
      "cell_type": "code",
      "execution_count": null,
      "metadata": {
        "id": "sebvMXaKd75t"
      },
      "outputs": [],
      "source": [
        "df_new.to_csv('amazon.csv',index=False)"
      ]
    },
    {
      "cell_type": "markdown",
      "source": [
        "#Метрики"
      ],
      "metadata": {
        "id": "X9JFf9-2PQ-g"
      }
    },
    {
      "cell_type": "code",
      "source": [
        "import matplotlib.pyplot as plt\n",
        "plt.style.use('dark_background')"
      ],
      "metadata": {
        "id": "C2ZjHsH1utwv"
      },
      "execution_count": null,
      "outputs": []
    },
    {
      "cell_type": "code",
      "source": [
        "test['score'].hist()"
      ],
      "metadata": {
        "colab": {
          "base_uri": "https://localhost:8080/",
          "height": 282
        },
        "id": "xj_D-D43Uk7e",
        "outputId": "76aae292-4da2-424a-c2f9-92ba02d55696"
      },
      "execution_count": null,
      "outputs": [
        {
          "output_type": "execute_result",
          "data": {
            "text/plain": [
              "<matplotlib.axes._subplots.AxesSubplot at 0x7f117bc9ff50>"
            ]
          },
          "metadata": {},
          "execution_count": 77
        },
        {
          "output_type": "display_data",
          "data": {
            "text/plain": [
              "<Figure size 432x288 with 1 Axes>"
            ],
            "image/png": "[encoded data removed]"
          },
          "metadata": {}
        }
      ]
    },
    {
      "cell_type": "code",
      "source": [
        "train['action'].mean()"
      ],
      "metadata": {
        "colab": {
          "base_uri": "https://localhost:8080/"
        },
        "id": "ztvLI83ZUonF",
        "outputId": "99d33c70-c074-444c-ac11-1724da67eda3"
      },
      "execution_count": null,
      "outputs": [
        {
          "output_type": "execute_result",
          "data": {
            "text/plain": [
              "0.9421189156197548"
            ]
          },
          "metadata": {},
          "execution_count": 78
        }
      ]
    },
    {
      "cell_type": "code",
      "source": [
        "test['Action'] = (test['score'] > 0.5) * 1"
      ],
      "metadata": {
        "id": "Hb3ggXoOzYmO"
      },
      "execution_count": null,
      "outputs": []
    },
    {
      "cell_type": "code",
      "source": [
        "test"
      ],
      "metadata": {
        "colab": {
          "base_uri": "https://localhost:8080/",
          "height": 488
        },
        "outputId": "e9e9bea5-19c8-44b8-b854-ce8680eed757",
        "id": "rONvYimvzYmQ"
      },
      "execution_count": null,
      "outputs": [
        {
          "output_type": "execute_result",
          "data": {
            "text/plain": [
              "       action  resource  mgr_id  role_rollup_1  role_rollup_2  role_deptname  \\\n",
              "26626       1      4675    3889         117961         118386         121668   \n",
              "26772       1     19310   68658           5110         117954         117895   \n",
              "10833       1     74829   32457         117961         118327         118320   \n",
              "10718       1     73876   22431         117961         118413         126229   \n",
              "32445       1     72445   25293         117961         118386         123072   \n",
              "...       ...       ...     ...            ...            ...            ...   \n",
              "19823       1     34924    8399         117961         118413         120370   \n",
              "21442       1     28149   46374         118315         118316         225010   \n",
              "6693        1     29304   57164         117975         117976         117912   \n",
              "13254       1     39628    5115         117961         118300         118631   \n",
              "29560       1     33149   15422         117961         118052         122392   \n",
              "\n",
              "       role_title  role_family_desc  role_family  role_code  pred  pred_all  \\\n",
              "26626      126184            140840       118762     126186     1         1   \n",
              "26772      117879            118250        19721     117880     1         1   \n",
              "10833      118321            117906       290919     118322     1         1   \n",
              "10718      118777            279443       308574     118779     1         1   \n",
              "32445      118784            117906       290919     118786     1         1   \n",
              "...           ...               ...          ...        ...   ...       ...   \n",
              "19823      122645            137960       119221     122647     1         1   \n",
              "21442      119849            134910       118638     119851     1         1   \n",
              "6693       117885            117913       117887     117888     1         1   \n",
              "13254      119587            176829       118704     119589     1         1   \n",
              "29560      130479            209981       119784     130481     1         1   \n",
              "\n",
              "          score  Action  \n",
              "26626  0.996079       1  \n",
              "26772  0.930216       1  \n",
              "10833  0.981912       1  \n",
              "10718  0.977403       1  \n",
              "32445  0.973793       1  \n",
              "...         ...     ...  \n",
              "19823  0.977637       1  \n",
              "21442  0.987056       1  \n",
              "6693   0.947308       1  \n",
              "13254  0.984455       1  \n",
              "29560  0.956846       1  \n",
              "\n",
              "[6554 rows x 14 columns]"
            ],
            "text/html": [
              "\n",
              "  <div id=\"df-6f10c161-8314-4178-820c-a2b45afbc764\">\n",
              "    <div class=\"colab-df-container\">\n",
              "      <div>\n",
              "<style scoped>\n",
              "    .dataframe tbody tr th:only-of-type {\n",
              "        vertical-align: middle;\n",
              "    }\n",
              "\n",
              "    .dataframe tbody tr th {\n",
              "        vertical-align: top;\n",
              "    }\n",
              "\n",
              "    .dataframe thead th {\n",
              "        text-align: right;\n",
              "    }\n",
              "</style>\n",
              "<table border=\"1\" class=\"dataframe\">\n",
              "  <thead>\n",
              "    <tr style=\"text-align: right;\">\n",
              "      <th></th>\n",
              "      <th>action</th>\n",
              "      <th>resource</th>\n",
              "      <th>mgr_id</th>\n",
              "      <th>role_rollup_1</th>\n",
              "      <th>role_rollup_2</th>\n",
              "      <th>role_deptname</th>\n",
              "      <th>role_title</th>\n",
              "      <th>role_family_desc</th>\n",
              "      <th>role_family</th>\n",
              "      <th>role_code</th>\n",
              "      <th>pred</th>\n",
              "      <th>pred_all</th>\n",
              "      <th>score</th>\n",
              "      <th>Action</th>\n",
              "    </tr>\n",
              "  </thead>\n",
              "  <tbody>\n",
              "    <tr>\n",
              "      <th>26626</th>\n",
              "      <td>1</td>\n",
              "      <td>4675</td>\n",
              "      <td>3889</td>\n",
              "      <td>117961</td>\n",
              "      <td>118386</td>\n",
              "      <td>121668</td>\n",
              "      <td>126184</td>\n",
              "      <td>140840</td>\n",
              "      <td>118762</td>\n",
              "      <td>126186</td>\n",
              "      <td>1</td>\n",
              "      <td>1</td>\n",
              "      <td>0.996079</td>\n",
              "      <td>1</td>\n",
              "    </tr>\n",
              "    <tr>\n",
              "      <th>26772</th>\n",
              "      <td>1</td>\n",
              "      <td>19310</td>\n",
              "      <td>68658</td>\n",
              "      <td>5110</td>\n",
              "      <td>117954</td>\n",
              "      <td>117895</td>\n",
              "      <td>117879</td>\n",
              "      <td>118250</td>\n",
              "      <td>19721</td>\n",
              "      <td>117880</td>\n",
              "      <td>1</td>\n",
              "      <td>1</td>\n",
              "      <td>0.930216</td>\n",
              "      <td>1</td>\n",
              "    </tr>\n",
              "    <tr>\n",
              "      <th>10833</th>\n",
              "      <td>1</td>\n",
              "      <td>74829</td>\n",
              "      <td>32457</td>\n",
              "      <td>117961</td>\n",
              "      <td>118327</td>\n",
              "      <td>118320</td>\n",
              "      <td>118321</td>\n",
              "      <td>117906</td>\n",
              "      <td>290919</td>\n",
              "      <td>118322</td>\n",
              "      <td>1</td>\n",
              "      <td>1</td>\n",
              "      <td>0.981912</td>\n",
              "      <td>1</td>\n",
              "    </tr>\n",
              "    <tr>\n",
              "      <th>10718</th>\n",
              "      <td>1</td>\n",
              "      <td>73876</td>\n",
              "      <td>22431</td>\n",
              "      <td>117961</td>\n",
              "      <td>118413</td>\n",
              "      <td>126229</td>\n",
              "      <td>118777</td>\n",
              "      <td>279443</td>\n",
              "      <td>308574</td>\n",
              "      <td>118779</td>\n",
              "      <td>1</td>\n",
              "      <td>1</td>\n",
              "      <td>0.977403</td>\n",
              "      <td>1</td>\n",
              "    </tr>\n",
              "    <tr>\n",
              "      <th>32445</th>\n",
              "      <td>1</td>\n",
              "      <td>72445</td>\n",
              "      <td>25293</td>\n",
              "      <td>117961</td>\n",
              "      <td>118386</td>\n",
              "      <td>123072</td>\n",
              "      <td>118784</td>\n",
              "      <td>117906</td>\n",
              "      <td>290919</td>\n",
              "      <td>118786</td>\n",
              "      <td>1</td>\n",
              "      <td>1</td>\n",
              "      <td>0.973793</td>\n",
              "      <td>1</td>\n",
              "    </tr>\n",
              "    <tr>\n",
              "      <th>...</th>\n",
              "      <td>...</td>\n",
              "      <td>...</td>\n",
              "      <td>...</td>\n",
              "      <td>...</td>\n",
              "      <td>...</td>\n",
              "      <td>...</td>\n",
              "      <td>...</td>\n",
              "      <td>...</td>\n",
              "      <td>...</td>\n",
              "      <td>...</td>\n",
              "      <td>...</td>\n",
              "      <td>...</td>\n",
              "      <td>...</td>\n",
              "      <td>...</td>\n",
              "    </tr>\n",
              "    <tr>\n",
              "      <th>19823</th>\n",
              "      <td>1</td>\n",
              "      <td>34924</td>\n",
              "      <td>8399</td>\n",
              "      <td>117961</td>\n",
              "      <td>118413</td>\n",
              "      <td>120370</td>\n",
              "      <td>122645</td>\n",
              "      <td>137960</td>\n",
              "      <td>119221</td>\n",
              "      <td>122647</td>\n",
              "      <td>1</td>\n",
              "      <td>1</td>\n",
              "      <td>0.977637</td>\n",
              "      <td>1</td>\n",
              "    </tr>\n",
              "    <tr>\n",
              "      <th>21442</th>\n",
              "      <td>1</td>\n",
              "      <td>28149</td>\n",
              "      <td>46374</td>\n",
              "      <td>118315</td>\n",
              "      <td>118316</td>\n",
              "      <td>225010</td>\n",
              "      <td>119849</td>\n",
              "      <td>134910</td>\n",
              "      <td>118638</td>\n",
              "      <td>119851</td>\n",
              "      <td>1</td>\n",
              "      <td>1</td>\n",
              "      <td>0.987056</td>\n",
              "      <td>1</td>\n",
              "    </tr>\n",
              "    <tr>\n",
              "      <th>6693</th>\n",
              "      <td>1</td>\n",
              "      <td>29304</td>\n",
              "      <td>57164</td>\n",
              "      <td>117975</td>\n",
              "      <td>117976</td>\n",
              "      <td>117912</td>\n",
              "      <td>117885</td>\n",
              "      <td>117913</td>\n",
              "      <td>117887</td>\n",
              "      <td>117888</td>\n",
              "      <td>1</td>\n",
              "      <td>1</td>\n",
              "      <td>0.947308</td>\n",
              "      <td>1</td>\n",
              "    </tr>\n",
              "    <tr>\n",
              "      <th>13254</th>\n",
              "      <td>1</td>\n",
              "      <td>39628</td>\n",
              "      <td>5115</td>\n",
              "      <td>117961</td>\n",
              "      <td>118300</td>\n",
              "      <td>118631</td>\n",
              "      <td>119587</td>\n",
              "      <td>176829</td>\n",
              "      <td>118704</td>\n",
              "      <td>119589</td>\n",
              "      <td>1</td>\n",
              "      <td>1</td>\n",
              "      <td>0.984455</td>\n",
              "      <td>1</td>\n",
              "    </tr>\n",
              "    <tr>\n",
              "      <th>29560</th>\n",
              "      <td>1</td>\n",
              "      <td>33149</td>\n",
              "      <td>15422</td>\n",
              "      <td>117961</td>\n",
              "      <td>118052</td>\n",
              "      <td>122392</td>\n",
              "      <td>130479</td>\n",
              "      <td>209981</td>\n",
              "      <td>119784</td>\n",
              "      <td>130481</td>\n",
              "      <td>1</td>\n",
              "      <td>1</td>\n",
              "      <td>0.956846</td>\n",
              "      <td>1</td>\n",
              "    </tr>\n",
              "  </tbody>\n",
              "</table>\n",
              "<p>6554 rows × 14 columns</p>\n",
              "</div>\n",
              "      <button class=\"colab-df-convert\" onclick=\"convertToInteractive('df-6f10c161-8314-4178-820c-a2b45afbc764')\"\n",
              "              title=\"Convert this dataframe to an interactive table.\"\n",
              "              style=\"display:none;\">\n",
              "        \n",
              "  <svg xmlns=\"http://www.w3.org/2000/svg\" height=\"24px\"viewBox=\"0 0 24 24\"\n",
              "       width=\"24px\">\n",
              "    <path d=\"M0 0h24v24H0V0z\" fill=\"none\"/>\n",
              "    <path d=\"M18.56 5.44l.94 2.06.94-2.06 2.06-.94-2.06-.94-.94-2.06-.94 2.06-2.06.94zm-11 1L8.5 8.5l.94-2.06 2.06-.94-2.06-.94L8.5 2.5l-.94 2.06-2.06.94zm10 10l.94 2.06.94-2.06 2.06-.94-2.06-.94-.94-2.06-.94 2.06-2.06.94z\"/><path d=\"M17.41 7.96l-1.37-1.37c-.4-.4-.92-.59-1.43-.59-.52 0-1.04.2-1.43.59L10.3 9.45l-7.72 7.72c-.78.78-.78 2.05 0 2.83L4 21.41c.39.39.9.59 1.41.59.51 0 1.02-.2 1.41-.59l7.78-7.78 2.81-2.81c.8-.78.8-2.07 0-2.86zM5.41 20L4 18.59l7.72-7.72 1.47 1.35L5.41 20z\"/>\n",
              "  </svg>\n",
              "      </button>\n",
              "      \n",
              "  <style>\n",
              "    .colab-df-container {\n",
              "      display:flex;\n",
              "      flex-wrap:wrap;\n",
              "      gap: 12px;\n",
              "    }\n",
              "\n",
              "    .colab-df-convert {\n",
              "      background-color: #E8F0FE;\n",
              "      border: none;\n",
              "      border-radius: 50%;\n",
              "      cursor: pointer;\n",
              "      display: none;\n",
              "      fill: #1967D2;\n",
              "      height: 32px;\n",
              "      padding: 0 0 0 0;\n",
              "      width: 32px;\n",
              "    }\n",
              "\n",
              "    .colab-df-convert:hover {\n",
              "      background-color: #E2EBFA;\n",
              "      box-shadow: 0px 1px 2px rgba(60, 64, 67, 0.3), 0px 1px 3px 1px rgba(60, 64, 67, 0.15);\n",
              "      fill: #174EA6;\n",
              "    }\n",
              "\n",
              "    [theme=dark] .colab-df-convert {\n",
              "      background-color: #3B4455;\n",
              "      fill: #D2E3FC;\n",
              "    }\n",
              "\n",
              "    [theme=dark] .colab-df-convert:hover {\n",
              "      background-color: #434B5C;\n",
              "      box-shadow: 0px 1px 3px 1px rgba(0, 0, 0, 0.15);\n",
              "      filter: drop-shadow(0px 1px 2px rgba(0, 0, 0, 0.3));\n",
              "      fill: #FFFFFF;\n",
              "    }\n",
              "  </style>\n",
              "\n",
              "      <script>\n",
              "        const buttonEl =\n",
              "          document.querySelector('#df-6f10c161-8314-4178-820c-a2b45afbc764 button.colab-df-convert');\n",
              "        buttonEl.style.display =\n",
              "          google.colab.kernel.accessAllowed ? 'block' : 'none';\n",
              "\n",
              "        async function convertToInteractive(key) {\n",
              "          const element = document.querySelector('#df-6f10c161-8314-4178-820c-a2b45afbc764');\n",
              "          const dataTable =\n",
              "            await google.colab.kernel.invokeFunction('convertToInteractive',\n",
              "                                                     [key], {});\n",
              "          if (!dataTable) return;\n",
              "\n",
              "          const docLinkHtml = 'Like what you see? Visit the ' +\n",
              "            '<a target=\"_blank\" href=https://colab.research.google.com/notebooks/data_table.ipynb>data table notebook</a>'\n",
              "            + ' to learn more about interactive tables.';\n",
              "          element.innerHTML = '';\n",
              "          dataTable['output_type'] = 'display_data';\n",
              "          await google.colab.output.renderOutput(dataTable, element);\n",
              "          const docLink = document.createElement('div');\n",
              "          docLink.innerHTML = docLinkHtml;\n",
              "          element.appendChild(docLink);\n",
              "        }\n",
              "      </script>\n",
              "    </div>\n",
              "  </div>\n",
              "  "
            ]
          },
          "metadata": {},
          "execution_count": 80
        }
      ]
    },
    {
      "cell_type": "code",
      "source": [
        "test['Action'].mean()"
      ],
      "metadata": {
        "id": "1vOVrIAXWFuw",
        "colab": {
          "base_uri": "https://localhost:8080/"
        },
        "outputId": "ed4029b0-be7a-4857-86ff-2745103e66ee"
      },
      "execution_count": null,
      "outputs": [
        {
          "output_type": "execute_result",
          "data": {
            "text/plain": [
              "0.9829111992676228"
            ]
          },
          "metadata": {},
          "execution_count": 81
        }
      ]
    },
    {
      "cell_type": "markdown",
      "source": [
        "##Матрица ошибок"
      ],
      "metadata": {
        "id": "yTWW4BizSFu2"
      }
    },
    {
      "cell_type": "code",
      "source": [
        "test"
      ],
      "metadata": {
        "colab": {
          "base_uri": "https://localhost:8080/",
          "height": 488
        },
        "id": "QIDtW9apTUIU",
        "outputId": "3a2daf89-137c-4ade-c57e-d21983743e72"
      },
      "execution_count": null,
      "outputs": [
        {
          "output_type": "execute_result",
          "data": {
            "text/plain": [
              "       action  resource  mgr_id  role_rollup_1  role_rollup_2  role_deptname  \\\n",
              "26626       1      4675    3889         117961         118386         121668   \n",
              "26772       1     19310   68658           5110         117954         117895   \n",
              "10833       1     74829   32457         117961         118327         118320   \n",
              "10718       1     73876   22431         117961         118413         126229   \n",
              "32445       1     72445   25293         117961         118386         123072   \n",
              "...       ...       ...     ...            ...            ...            ...   \n",
              "19823       1     34924    8399         117961         118413         120370   \n",
              "21442       1     28149   46374         118315         118316         225010   \n",
              "6693        1     29304   57164         117975         117976         117912   \n",
              "13254       1     39628    5115         117961         118300         118631   \n",
              "29560       1     33149   15422         117961         118052         122392   \n",
              "\n",
              "       role_title  role_family_desc  role_family  role_code  pred  pred_all  \\\n",
              "26626      126184            140840       118762     126186     1         1   \n",
              "26772      117879            118250        19721     117880     1         1   \n",
              "10833      118321            117906       290919     118322     1         1   \n",
              "10718      118777            279443       308574     118779     1         1   \n",
              "32445      118784            117906       290919     118786     1         1   \n",
              "...           ...               ...          ...        ...   ...       ...   \n",
              "19823      122645            137960       119221     122647     1         1   \n",
              "21442      119849            134910       118638     119851     1         1   \n",
              "6693       117885            117913       117887     117888     1         1   \n",
              "13254      119587            176829       118704     119589     1         1   \n",
              "29560      130479            209981       119784     130481     1         1   \n",
              "\n",
              "          score  Action  \n",
              "26626  0.996079       1  \n",
              "26772  0.930216       1  \n",
              "10833  0.981912       1  \n",
              "10718  0.977403       1  \n",
              "32445  0.973793       1  \n",
              "...         ...     ...  \n",
              "19823  0.977637       1  \n",
              "21442  0.987056       1  \n",
              "6693   0.947308       1  \n",
              "13254  0.984455       1  \n",
              "29560  0.956846       1  \n",
              "\n",
              "[6554 rows x 14 columns]"
            ],
            "text/html": [
              "\n",
              "  <div id=\"df-f5174593-3d2f-43aa-905c-b35256250dec\">\n",
              "    <div class=\"colab-df-container\">\n",
              "      <div>\n",
              "<style scoped>\n",
              "    .dataframe tbody tr th:only-of-type {\n",
              "        vertical-align: middle;\n",
              "    }\n",
              "\n",
              "    .dataframe tbody tr th {\n",
              "        vertical-align: top;\n",
              "    }\n",
              "\n",
              "    .dataframe thead th {\n",
              "        text-align: right;\n",
              "    }\n",
              "</style>\n",
              "<table border=\"1\" class=\"dataframe\">\n",
              "  <thead>\n",
              "    <tr style=\"text-align: right;\">\n",
              "      <th></th>\n",
              "      <th>action</th>\n",
              "      <th>resource</th>\n",
              "      <th>mgr_id</th>\n",
              "      <th>role_rollup_1</th>\n",
              "      <th>role_rollup_2</th>\n",
              "      <th>role_deptname</th>\n",
              "      <th>role_title</th>\n",
              "      <th>role_family_desc</th>\n",
              "      <th>role_family</th>\n",
              "      <th>role_code</th>\n",
              "      <th>pred</th>\n",
              "      <th>pred_all</th>\n",
              "      <th>score</th>\n",
              "      <th>Action</th>\n",
              "    </tr>\n",
              "  </thead>\n",
              "  <tbody>\n",
              "    <tr>\n",
              "      <th>26626</th>\n",
              "      <td>1</td>\n",
              "      <td>4675</td>\n",
              "      <td>3889</td>\n",
              "      <td>117961</td>\n",
              "      <td>118386</td>\n",
              "      <td>121668</td>\n",
              "      <td>126184</td>\n",
              "      <td>140840</td>\n",
              "      <td>118762</td>\n",
              "      <td>126186</td>\n",
              "      <td>1</td>\n",
              "      <td>1</td>\n",
              "      <td>0.996079</td>\n",
              "      <td>1</td>\n",
              "    </tr>\n",
              "    <tr>\n",
              "      <th>26772</th>\n",
              "      <td>1</td>\n",
              "      <td>19310</td>\n",
              "      <td>68658</td>\n",
              "      <td>5110</td>\n",
              "      <td>117954</td>\n",
              "      <td>117895</td>\n",
              "      <td>117879</td>\n",
              "      <td>118250</td>\n",
              "      <td>19721</td>\n",
              "      <td>117880</td>\n",
              "      <td>1</td>\n",
              "      <td>1</td>\n",
              "      <td>0.930216</td>\n",
              "      <td>1</td>\n",
              "    </tr>\n",
              "    <tr>\n",
              "      <th>10833</th>\n",
              "      <td>1</td>\n",
              "      <td>74829</td>\n",
              "      <td>32457</td>\n",
              "      <td>117961</td>\n",
              "      <td>118327</td>\n",
              "      <td>118320</td>\n",
              "      <td>118321</td>\n",
              "      <td>117906</td>\n",
              "      <td>290919</td>\n",
              "      <td>118322</td>\n",
              "      <td>1</td>\n",
              "      <td>1</td>\n",
              "      <td>0.981912</td>\n",
              "      <td>1</td>\n",
              "    </tr>\n",
              "    <tr>\n",
              "      <th>10718</th>\n",
              "      <td>1</td>\n",
              "      <td>73876</td>\n",
              "      <td>22431</td>\n",
              "      <td>117961</td>\n",
              "      <td>118413</td>\n",
              "      <td>126229</td>\n",
              "      <td>118777</td>\n",
              "      <td>279443</td>\n",
              "      <td>308574</td>\n",
              "      <td>118779</td>\n",
              "      <td>1</td>\n",
              "      <td>1</td>\n",
              "      <td>0.977403</td>\n",
              "      <td>1</td>\n",
              "    </tr>\n",
              "    <tr>\n",
              "      <th>32445</th>\n",
              "      <td>1</td>\n",
              "      <td>72445</td>\n",
              "      <td>25293</td>\n",
              "      <td>117961</td>\n",
              "      <td>118386</td>\n",
              "      <td>123072</td>\n",
              "      <td>118784</td>\n",
              "      <td>117906</td>\n",
              "      <td>290919</td>\n",
              "      <td>118786</td>\n",
              "      <td>1</td>\n",
              "      <td>1</td>\n",
              "      <td>0.973793</td>\n",
              "      <td>1</td>\n",
              "    </tr>\n",
              "    <tr>\n",
              "      <th>...</th>\n",
              "      <td>...</td>\n",
              "      <td>...</td>\n",
              "      <td>...</td>\n",
              "      <td>...</td>\n",
              "      <td>...</td>\n",
              "      <td>...</td>\n",
              "      <td>...</td>\n",
              "      <td>...</td>\n",
              "      <td>...</td>\n",
              "      <td>...</td>\n",
              "      <td>...</td>\n",
              "      <td>...</td>\n",
              "      <td>...</td>\n",
              "      <td>...</td>\n",
              "    </tr>\n",
              "    <tr>\n",
              "      <th>19823</th>\n",
              "      <td>1</td>\n",
              "      <td>34924</td>\n",
              "      <td>8399</td>\n",
              "      <td>117961</td>\n",
              "      <td>118413</td>\n",
              "      <td>120370</td>\n",
              "      <td>122645</td>\n",
              "      <td>137960</td>\n",
              "      <td>119221</td>\n",
              "      <td>122647</td>\n",
              "      <td>1</td>\n",
              "      <td>1</td>\n",
              "      <td>0.977637</td>\n",
              "      <td>1</td>\n",
              "    </tr>\n",
              "    <tr>\n",
              "      <th>21442</th>\n",
              "      <td>1</td>\n",
              "      <td>28149</td>\n",
              "      <td>46374</td>\n",
              "      <td>118315</td>\n",
              "      <td>118316</td>\n",
              "      <td>225010</td>\n",
              "      <td>119849</td>\n",
              "      <td>134910</td>\n",
              "      <td>118638</td>\n",
              "      <td>119851</td>\n",
              "      <td>1</td>\n",
              "      <td>1</td>\n",
              "      <td>0.987056</td>\n",
              "      <td>1</td>\n",
              "    </tr>\n",
              "    <tr>\n",
              "      <th>6693</th>\n",
              "      <td>1</td>\n",
              "      <td>29304</td>\n",
              "      <td>57164</td>\n",
              "      <td>117975</td>\n",
              "      <td>117976</td>\n",
              "      <td>117912</td>\n",
              "      <td>117885</td>\n",
              "      <td>117913</td>\n",
              "      <td>117887</td>\n",
              "      <td>117888</td>\n",
              "      <td>1</td>\n",
              "      <td>1</td>\n",
              "      <td>0.947308</td>\n",
              "      <td>1</td>\n",
              "    </tr>\n",
              "    <tr>\n",
              "      <th>13254</th>\n",
              "      <td>1</td>\n",
              "      <td>39628</td>\n",
              "      <td>5115</td>\n",
              "      <td>117961</td>\n",
              "      <td>118300</td>\n",
              "      <td>118631</td>\n",
              "      <td>119587</td>\n",
              "      <td>176829</td>\n",
              "      <td>118704</td>\n",
              "      <td>119589</td>\n",
              "      <td>1</td>\n",
              "      <td>1</td>\n",
              "      <td>0.984455</td>\n",
              "      <td>1</td>\n",
              "    </tr>\n",
              "    <tr>\n",
              "      <th>29560</th>\n",
              "      <td>1</td>\n",
              "      <td>33149</td>\n",
              "      <td>15422</td>\n",
              "      <td>117961</td>\n",
              "      <td>118052</td>\n",
              "      <td>122392</td>\n",
              "      <td>130479</td>\n",
              "      <td>209981</td>\n",
              "      <td>119784</td>\n",
              "      <td>130481</td>\n",
              "      <td>1</td>\n",
              "      <td>1</td>\n",
              "      <td>0.956846</td>\n",
              "      <td>1</td>\n",
              "    </tr>\n",
              "  </tbody>\n",
              "</table>\n",
              "<p>6554 rows × 14 columns</p>\n",
              "</div>\n",
              "      <button class=\"colab-df-convert\" onclick=\"convertToInteractive('df-f5174593-3d2f-43aa-905c-b35256250dec')\"\n",
              "              title=\"Convert this dataframe to an interactive table.\"\n",
              "              style=\"display:none;\">\n",
              "        \n",
              "  <svg xmlns=\"http://www.w3.org/2000/svg\" height=\"24px\"viewBox=\"0 0 24 24\"\n",
              "       width=\"24px\">\n",
              "    <path d=\"M0 0h24v24H0V0z\" fill=\"none\"/>\n",
              "    <path d=\"M18.56 5.44l.94 2.06.94-2.06 2.06-.94-2.06-.94-.94-2.06-.94 2.06-2.06.94zm-11 1L8.5 8.5l.94-2.06 2.06-.94-2.06-.94L8.5 2.5l-.94 2.06-2.06.94zm10 10l.94 2.06.94-2.06 2.06-.94-2.06-.94-.94-2.06-.94 2.06-2.06.94z\"/><path d=\"M17.41 7.96l-1.37-1.37c-.4-.4-.92-.59-1.43-.59-.52 0-1.04.2-1.43.59L10.3 9.45l-7.72 7.72c-.78.78-.78 2.05 0 2.83L4 21.41c.39.39.9.59 1.41.59.51 0 1.02-.2 1.41-.59l7.78-7.78 2.81-2.81c.8-.78.8-2.07 0-2.86zM5.41 20L4 18.59l7.72-7.72 1.47 1.35L5.41 20z\"/>\n",
              "  </svg>\n",
              "      </button>\n",
              "      \n",
              "  <style>\n",
              "    .colab-df-container {\n",
              "      display:flex;\n",
              "      flex-wrap:wrap;\n",
              "      gap: 12px;\n",
              "    }\n",
              "\n",
              "    .colab-df-convert {\n",
              "      background-color: #E8F0FE;\n",
              "      border: none;\n",
              "      border-radius: 50%;\n",
              "      cursor: pointer;\n",
              "      display: none;\n",
              "      fill: #1967D2;\n",
              "      height: 32px;\n",
              "      padding: 0 0 0 0;\n",
              "      width: 32px;\n",
              "    }\n",
              "\n",
              "    .colab-df-convert:hover {\n",
              "      background-color: #E2EBFA;\n",
              "      box-shadow: 0px 1px 2px rgba(60, 64, 67, 0.3), 0px 1px 3px 1px rgba(60, 64, 67, 0.15);\n",
              "      fill: #174EA6;\n",
              "    }\n",
              "\n",
              "    [theme=dark] .colab-df-convert {\n",
              "      background-color: #3B4455;\n",
              "      fill: #D2E3FC;\n",
              "    }\n",
              "\n",
              "    [theme=dark] .colab-df-convert:hover {\n",
              "      background-color: #434B5C;\n",
              "      box-shadow: 0px 1px 3px 1px rgba(0, 0, 0, 0.15);\n",
              "      filter: drop-shadow(0px 1px 2px rgba(0, 0, 0, 0.3));\n",
              "      fill: #FFFFFF;\n",
              "    }\n",
              "  </style>\n",
              "\n",
              "      <script>\n",
              "        const buttonEl =\n",
              "          document.querySelector('#df-f5174593-3d2f-43aa-905c-b35256250dec button.colab-df-convert');\n",
              "        buttonEl.style.display =\n",
              "          google.colab.kernel.accessAllowed ? 'block' : 'none';\n",
              "\n",
              "        async function convertToInteractive(key) {\n",
              "          const element = document.querySelector('#df-f5174593-3d2f-43aa-905c-b35256250dec');\n",
              "          const dataTable =\n",
              "            await google.colab.kernel.invokeFunction('convertToInteractive',\n",
              "                                                     [key], {});\n",
              "          if (!dataTable) return;\n",
              "\n",
              "          const docLinkHtml = 'Like what you see? Visit the ' +\n",
              "            '<a target=\"_blank\" href=https://colab.research.google.com/notebooks/data_table.ipynb>data table notebook</a>'\n",
              "            + ' to learn more about interactive tables.';\n",
              "          element.innerHTML = '';\n",
              "          dataTable['output_type'] = 'display_data';\n",
              "          await google.colab.output.renderOutput(dataTable, element);\n",
              "          const docLink = document.createElement('div');\n",
              "          docLink.innerHTML = docLinkHtml;\n",
              "          element.appendChild(docLink);\n",
              "        }\n",
              "      </script>\n",
              "    </div>\n",
              "  </div>\n",
              "  "
            ]
          },
          "metadata": {},
          "execution_count": 82
        }
      ]
    },
    {
      "cell_type": "code",
      "source": [
        "from sklearn.metrics import confusion_matrix"
      ],
      "metadata": {
        "id": "R-rj8FyHTY01"
      },
      "execution_count": null,
      "outputs": []
    },
    {
      "cell_type": "code",
      "source": [
        "confusion_matrix(test['action'],test['Action'])"
      ],
      "metadata": {
        "colab": {
          "base_uri": "https://localhost:8080/"
        },
        "id": "5RN0QIruTnTV",
        "outputId": "b1b85288-dcfb-4e03-9ca7-dd64dda2682f"
      },
      "execution_count": null,
      "outputs": [
        {
          "output_type": "execute_result",
          "data": {
            "text/plain": [
              "array([[  75,  305],\n",
              "       [  37, 6137]])"
            ]
          },
          "metadata": {},
          "execution_count": 84
        }
      ]
    },
    {
      "cell_type": "code",
      "source": [
        "tn, fp, fn, tp = confusion_matrix(test['action'],test['Action']).ravel()"
      ],
      "metadata": {
        "id": "tOqqsYRFUaVy"
      },
      "execution_count": null,
      "outputs": []
    },
    {
      "cell_type": "code",
      "source": [
        "tn, fp, fn, tp"
      ],
      "metadata": {
        "colab": {
          "base_uri": "https://localhost:8080/"
        },
        "id": "ZBeucSc1UgvK",
        "outputId": "0ee03cc6-a271-49a0-ca49-14db42970767"
      },
      "execution_count": null,
      "outputs": [
        {
          "output_type": "execute_result",
          "data": {
            "text/plain": [
              "(75, 305, 37, 6137)"
            ]
          },
          "metadata": {},
          "execution_count": 86
        }
      ]
    },
    {
      "cell_type": "markdown",
      "source": [
        "##Recall"
      ],
      "metadata": {
        "id": "Wr_NFtbBzlVx"
      }
    },
    {
      "cell_type": "code",
      "source": [
        "recall = tp / (tp + fn)"
      ],
      "metadata": {
        "id": "7yfgFa-D1RP4"
      },
      "execution_count": null,
      "outputs": []
    },
    {
      "cell_type": "code",
      "source": [
        "recall"
      ],
      "metadata": {
        "colab": {
          "base_uri": "https://localhost:8080/"
        },
        "id": "ow38SmPv1eNM",
        "outputId": "86acae13-657f-413e-d9e8-c7b8515bf7cc"
      },
      "execution_count": null,
      "outputs": [
        {
          "output_type": "execute_result",
          "data": {
            "text/plain": [
              "0.9940071266601879"
            ]
          },
          "metadata": {},
          "execution_count": 88
        }
      ]
    },
    {
      "cell_type": "code",
      "source": [
        "from sklearn.metrics import recall_score"
      ],
      "metadata": {
        "id": "8Q1ZF3s71fR4"
      },
      "execution_count": null,
      "outputs": []
    },
    {
      "cell_type": "code",
      "source": [
        "recall_score(test['action'],test['Action'])"
      ],
      "metadata": {
        "colab": {
          "base_uri": "https://localhost:8080/"
        },
        "id": "6bAojGhw2DGL",
        "outputId": "38a441f9-d958-415d-c693-094e67994c05"
      },
      "execution_count": null,
      "outputs": [
        {
          "output_type": "execute_result",
          "data": {
            "text/plain": [
              "0.9940071266601879"
            ]
          },
          "metadata": {},
          "execution_count": 90
        }
      ]
    },
    {
      "cell_type": "markdown",
      "source": [
        "##Precision"
      ],
      "metadata": {
        "id": "hTzsBWJH2OgK"
      }
    },
    {
      "cell_type": "code",
      "source": [
        "precision = tp / (tp + fp)"
      ],
      "metadata": {
        "id": "01zTtwU6-aua"
      },
      "execution_count": null,
      "outputs": []
    },
    {
      "cell_type": "code",
      "source": [
        "precision"
      ],
      "metadata": {
        "colab": {
          "base_uri": "https://localhost:8080/"
        },
        "id": "h3FmET3d-lk6",
        "outputId": "8317ac7d-271d-4a29-a4d0-d0ca1cdf16da"
      },
      "execution_count": null,
      "outputs": [
        {
          "output_type": "execute_result",
          "data": {
            "text/plain": [
              "0.9526544551381558"
            ]
          },
          "metadata": {},
          "execution_count": 92
        }
      ]
    },
    {
      "cell_type": "code",
      "source": [
        "from sklearn.metrics import precision_score"
      ],
      "metadata": {
        "id": "RA5Vhsx2-nJq"
      },
      "execution_count": null,
      "outputs": []
    },
    {
      "cell_type": "code",
      "source": [
        "precision_score(test['action'],test['Action'])"
      ],
      "metadata": {
        "colab": {
          "base_uri": "https://localhost:8080/"
        },
        "id": "auEa0ASB_CUj",
        "outputId": "0567811b-fb64-45ef-e6ad-c20c749d12a6"
      },
      "execution_count": null,
      "outputs": [
        {
          "output_type": "execute_result",
          "data": {
            "text/plain": [
              "0.9526544551381558"
            ]
          },
          "metadata": {},
          "execution_count": 94
        }
      ]
    },
    {
      "cell_type": "markdown",
      "source": [
        "##F1"
      ],
      "metadata": {
        "id": "j8Xm421Z_E5l"
      }
    },
    {
      "cell_type": "code",
      "source": [
        "f1 = (2 * recall * precision) / (recall + precision)"
      ],
      "metadata": {
        "id": "gQIVExC9Ar3j"
      },
      "execution_count": null,
      "outputs": []
    },
    {
      "cell_type": "code",
      "source": [
        "f1"
      ],
      "metadata": {
        "colab": {
          "base_uri": "https://localhost:8080/"
        },
        "id": "ddlkyZtEA94W",
        "outputId": "d6be53ff-f379-49b0-f2fe-3d28f16d647c"
      },
      "execution_count": null,
      "outputs": [
        {
          "output_type": "execute_result",
          "data": {
            "text/plain": [
              "0.9728915662650602"
            ]
          },
          "metadata": {},
          "execution_count": 96
        }
      ]
    },
    {
      "cell_type": "code",
      "source": [
        "from sklearn.metrics import f1_score"
      ],
      "metadata": {
        "id": "6U4m7-WTBBDm"
      },
      "execution_count": null,
      "outputs": []
    },
    {
      "cell_type": "code",
      "source": [
        "f1_score(test['action'],test['Action'])"
      ],
      "metadata": {
        "colab": {
          "base_uri": "https://localhost:8080/"
        },
        "id": "-sg5drjdBSHL",
        "outputId": "3282f32a-ad9f-462f-c6d8-d19d49e81e57"
      },
      "execution_count": null,
      "outputs": [
        {
          "output_type": "execute_result",
          "data": {
            "text/plain": [
              "0.9728915662650602"
            ]
          },
          "metadata": {},
          "execution_count": 98
        }
      ]
    },
    {
      "cell_type": "markdown",
      "source": [
        "##Classification report"
      ],
      "metadata": {
        "id": "fSlDspTsEMjW"
      }
    },
    {
      "cell_type": "code",
      "source": [
        "from sklearn.metrics import classification_report"
      ],
      "metadata": {
        "id": "CVxG-i_EEPdQ"
      },
      "execution_count": null,
      "outputs": []
    },
    {
      "cell_type": "code",
      "source": [
        "print(classification_report(test['action'],test['Action']))"
      ],
      "metadata": {
        "colab": {
          "base_uri": "https://localhost:8080/"
        },
        "id": "jeHFf7JYEW3n",
        "outputId": "0c8345b8-9c00-4e83-864e-668820c9b240"
      },
      "execution_count": null,
      "outputs": [
        {
          "output_type": "stream",
          "name": "stdout",
          "text": [
            "              precision    recall  f1-score   support\n",
            "\n",
            "           0       0.67      0.20      0.30       380\n",
            "           1       0.95      0.99      0.97      6174\n",
            "\n",
            "    accuracy                           0.95      6554\n",
            "   macro avg       0.81      0.60      0.64      6554\n",
            "weighted avg       0.94      0.95      0.93      6554\n",
            "\n"
          ]
        }
      ]
    },
    {
      "cell_type": "code",
      "source": [
        "len(test['score'])"
      ],
      "metadata": {
        "colab": {
          "base_uri": "https://localhost:8080/"
        },
        "id": "YCX482cWl7Sa",
        "outputId": "226eb3d0-14ea-4b10-f27e-143b67673d99"
      },
      "execution_count": null,
      "outputs": [
        {
          "output_type": "execute_result",
          "data": {
            "text/plain": [
              "6554"
            ]
          },
          "metadata": {},
          "execution_count": 101
        }
      ]
    },
    {
      "cell_type": "code",
      "source": [
        "test['score'].nunique()"
      ],
      "metadata": {
        "colab": {
          "base_uri": "https://localhost:8080/"
        },
        "id": "T0zEZCiblYx7",
        "outputId": "a3dec4fb-e96e-471a-db57-537bc740e4eb"
      },
      "execution_count": null,
      "outputs": [
        {
          "output_type": "execute_result",
          "data": {
            "text/plain": [
              "6483"
            ]
          },
          "metadata": {},
          "execution_count": 102
        }
      ]
    },
    {
      "cell_type": "code",
      "source": [
        "thrs = [0] + list(test['score'].unique())"
      ],
      "metadata": {
        "id": "vogYubqPl2k7"
      },
      "execution_count": null,
      "outputs": []
    },
    {
      "cell_type": "code",
      "source": [
        "min(thrs)"
      ],
      "metadata": {
        "colab": {
          "base_uri": "https://localhost:8080/"
        },
        "id": "LFJgq2_RLtvl",
        "outputId": "89d55397-3816-4b03-93ea-9d60713c2d7e"
      },
      "execution_count": null,
      "outputs": [
        {
          "output_type": "execute_result",
          "data": {
            "text/plain": [
              "0"
            ]
          },
          "metadata": {},
          "execution_count": 104
        }
      ]
    },
    {
      "cell_type": "code",
      "source": [
        "from tqdm.notebook import tqdm"
      ],
      "metadata": {
        "id": "KBr4aTFpmq6U"
      },
      "execution_count": null,
      "outputs": []
    },
    {
      "cell_type": "code",
      "source": [
        "result = []\n",
        "for thr in tqdm(thrs):\n",
        "  test['Action_new'] = (test['score'] > thr) * 1\n",
        "  result.append((thr,\n",
        "                 f1_score(test['action'],test['Action_new'])))"
      ],
      "metadata": {
        "colab": {
          "base_uri": "https://localhost:8080/",
          "height": 49,
          "referenced_widgets": [
            "c422443908004e7b87aac934b0ae7619",
            "3a1d202d4022421693b2d2c0df90a3e8",
            "32dfe7a1812e421385a98d3315f2dd36",
            "4aeda1b7222e4b0dbf8a311a0d89dd88",
            "cf306d38208441efb13f494ea93c1e10",
            "0dedd3c39dc0446ab62b88d7b2772e0b",
            "fd9e0c18663e4bbb88803a7984f663c8",
            "4be6dfacce5e4d6689af8b82c92d1d33",
            "632d3f93406e4fd19e0838075e672521",
            "4ae2c431161245a8b32fdcdcb4507ac5",
            "93cd42572f264f8f833a60f15f8755aa"
          ]
        },
        "id": "DeTbWyeUmJj-",
        "outputId": "8cf53886-cd35-4ca0-e7cd-590de302ff89"
      },
      "execution_count": null,
      "outputs": [
        {
          "output_type": "display_data",
          "data": {
            "text/plain": [
              "  0%|          | 0/6484 [00:00<?, ?it/s]"
            ],
            "application/vnd.jupyter.widget-view+json": {
              "version_major": 2,
              "version_minor": 0,
              "model_id": "c422443908004e7b87aac934b0ae7619"
            }
          },
          "metadata": {}
        }
      ]
    },
    {
      "cell_type": "code",
      "source": [
        "result[:10]"
      ],
      "metadata": {
        "colab": {
          "base_uri": "https://localhost:8080/"
        },
        "id": "YiKg0Ef8OIus",
        "outputId": "4b77edda-537e-40cb-9f7a-8f4273faba25"
      },
      "execution_count": null,
      "outputs": [
        {
          "output_type": "execute_result",
          "data": {
            "text/plain": [
              "[(0, 0.9701445631678189),\n",
              " (0.9960793015596029, 0.1932466013740681),\n",
              " (0.9302164219504627, 0.9234972677595629),\n",
              " (0.9819117413099527, 0.653529666522304),\n",
              " (0.9774034476325968, 0.7208705471717483),\n",
              " (0.9737929216424989, 0.7609213661636218),\n",
              " (0.993407352064187, 0.3268009190431139),\n",
              " (0.984261343054068, 0.6124455368115295),\n",
              " (0.9891129514698669, 0.48737650933040616),\n",
              " (0.9921952309087894, 0.3811266501110966)]"
            ]
          },
          "metadata": {},
          "execution_count": 107
        }
      ]
    },
    {
      "cell_type": "code",
      "source": [
        "t = pd.DataFrame(result,columns=['thr','f1'])"
      ],
      "metadata": {
        "id": "tTr6cANxNC_s"
      },
      "execution_count": null,
      "outputs": []
    },
    {
      "cell_type": "code",
      "source": [
        "t.sort_values('f1',ascending=False)"
      ],
      "metadata": {
        "colab": {
          "base_uri": "https://localhost:8080/",
          "height": 424
        },
        "id": "tgbtBai6NOV_",
        "outputId": "9233c678-9e7e-4d47-d6c7-5e55e7548326"
      },
      "execution_count": null,
      "outputs": [
        {
          "output_type": "execute_result",
          "data": {
            "text/plain": [
              "           thr        f1\n",
              "2410  0.478547  0.972982\n",
              "4965  0.516159  0.972964\n",
              "1961  0.450941  0.972926\n",
              "2615  0.633583  0.972921\n",
              "405   0.465165  0.972917\n",
              "...        ...       ...\n",
              "5908  0.999879  0.001295\n",
              "4295  0.999884  0.000971\n",
              "3256  0.999890  0.000648\n",
              "6063  0.999938  0.000324\n",
              "4566  0.999971  0.000000\n",
              "\n",
              "[6484 rows x 2 columns]"
            ],
            "text/html": [
              "\n",
              "  <div id=\"df-14624cd3-99bc-4ce9-8c8d-a3514a112b72\">\n",
              "    <div class=\"colab-df-container\">\n",
              "      <div>\n",
              "<style scoped>\n",
              "    .dataframe tbody tr th:only-of-type {\n",
              "        vertical-align: middle;\n",
              "    }\n",
              "\n",
              "    .dataframe tbody tr th {\n",
              "        vertical-align: top;\n",
              "    }\n",
              "\n",
              "    .dataframe thead th {\n",
              "        text-align: right;\n",
              "    }\n",
              "</style>\n",
              "<table border=\"1\" class=\"dataframe\">\n",
              "  <thead>\n",
              "    <tr style=\"text-align: right;\">\n",
              "      <th></th>\n",
              "      <th>thr</th>\n",
              "      <th>f1</th>\n",
              "    </tr>\n",
              "  </thead>\n",
              "  <tbody>\n",
              "    <tr>\n",
              "      <th>2410</th>\n",
              "      <td>0.478547</td>\n",
              "      <td>0.972982</td>\n",
              "    </tr>\n",
              "    <tr>\n",
              "      <th>4965</th>\n",
              "      <td>0.516159</td>\n",
              "      <td>0.972964</td>\n",
              "    </tr>\n",
              "    <tr>\n",
              "      <th>1961</th>\n",
              "      <td>0.450941</td>\n",
              "      <td>0.972926</td>\n",
              "    </tr>\n",
              "    <tr>\n",
              "      <th>2615</th>\n",
              "      <td>0.633583</td>\n",
              "      <td>0.972921</td>\n",
              "    </tr>\n",
              "    <tr>\n",
              "      <th>405</th>\n",
              "      <td>0.465165</td>\n",
              "      <td>0.972917</td>\n",
              "    </tr>\n",
              "    <tr>\n",
              "      <th>...</th>\n",
              "      <td>...</td>\n",
              "      <td>...</td>\n",
              "    </tr>\n",
              "    <tr>\n",
              "      <th>5908</th>\n",
              "      <td>0.999879</td>\n",
              "      <td>0.001295</td>\n",
              "    </tr>\n",
              "    <tr>\n",
              "      <th>4295</th>\n",
              "      <td>0.999884</td>\n",
              "      <td>0.000971</td>\n",
              "    </tr>\n",
              "    <tr>\n",
              "      <th>3256</th>\n",
              "      <td>0.999890</td>\n",
              "      <td>0.000648</td>\n",
              "    </tr>\n",
              "    <tr>\n",
              "      <th>6063</th>\n",
              "      <td>0.999938</td>\n",
              "      <td>0.000324</td>\n",
              "    </tr>\n",
              "    <tr>\n",
              "      <th>4566</th>\n",
              "      <td>0.999971</td>\n",
              "      <td>0.000000</td>\n",
              "    </tr>\n",
              "  </tbody>\n",
              "</table>\n",
              "<p>6484 rows × 2 columns</p>\n",
              "</div>\n",
              "      <button class=\"colab-df-convert\" onclick=\"convertToInteractive('df-14624cd3-99bc-4ce9-8c8d-a3514a112b72')\"\n",
              "              title=\"Convert this dataframe to an interactive table.\"\n",
              "              style=\"display:none;\">\n",
              "        \n",
              "  <svg xmlns=\"http://www.w3.org/2000/svg\" height=\"24px\"viewBox=\"0 0 24 24\"\n",
              "       width=\"24px\">\n",
              "    <path d=\"M0 0h24v24H0V0z\" fill=\"none\"/>\n",
              "    <path d=\"M18.56 5.44l.94 2.06.94-2.06 2.06-.94-2.06-.94-.94-2.06-.94 2.06-2.06.94zm-11 1L8.5 8.5l.94-2.06 2.06-.94-2.06-.94L8.5 2.5l-.94 2.06-2.06.94zm10 10l.94 2.06.94-2.06 2.06-.94-2.06-.94-.94-2.06-.94 2.06-2.06.94z\"/><path d=\"M17.41 7.96l-1.37-1.37c-.4-.4-.92-.59-1.43-.59-.52 0-1.04.2-1.43.59L10.3 9.45l-7.72 7.72c-.78.78-.78 2.05 0 2.83L4 21.41c.39.39.9.59 1.41.59.51 0 1.02-.2 1.41-.59l7.78-7.78 2.81-2.81c.8-.78.8-2.07 0-2.86zM5.41 20L4 18.59l7.72-7.72 1.47 1.35L5.41 20z\"/>\n",
              "  </svg>\n",
              "      </button>\n",
              "      \n",
              "  <style>\n",
              "    .colab-df-container {\n",
              "      display:flex;\n",
              "      flex-wrap:wrap;\n",
              "      gap: 12px;\n",
              "    }\n",
              "\n",
              "    .colab-df-convert {\n",
              "      background-color: #E8F0FE;\n",
              "      border: none;\n",
              "      border-radius: 50%;\n",
              "      cursor: pointer;\n",
              "      display: none;\n",
              "      fill: #1967D2;\n",
              "      height: 32px;\n",
              "      padding: 0 0 0 0;\n",
              "      width: 32px;\n",
              "    }\n",
              "\n",
              "    .colab-df-convert:hover {\n",
              "      background-color: #E2EBFA;\n",
              "      box-shadow: 0px 1px 2px rgba(60, 64, 67, 0.3), 0px 1px 3px 1px rgba(60, 64, 67, 0.15);\n",
              "      fill: #174EA6;\n",
              "    }\n",
              "\n",
              "    [theme=dark] .colab-df-convert {\n",
              "      background-color: #3B4455;\n",
              "      fill: #D2E3FC;\n",
              "    }\n",
              "\n",
              "    [theme=dark] .colab-df-convert:hover {\n",
              "      background-color: #434B5C;\n",
              "      box-shadow: 0px 1px 3px 1px rgba(0, 0, 0, 0.15);\n",
              "      filter: drop-shadow(0px 1px 2px rgba(0, 0, 0, 0.3));\n",
              "      fill: #FFFFFF;\n",
              "    }\n",
              "  </style>\n",
              "\n",
              "      <script>\n",
              "        const buttonEl =\n",
              "          document.querySelector('#df-14624cd3-99bc-4ce9-8c8d-a3514a112b72 button.colab-df-convert');\n",
              "        buttonEl.style.display =\n",
              "          google.colab.kernel.accessAllowed ? 'block' : 'none';\n",
              "\n",
              "        async function convertToInteractive(key) {\n",
              "          const element = document.querySelector('#df-14624cd3-99bc-4ce9-8c8d-a3514a112b72');\n",
              "          const dataTable =\n",
              "            await google.colab.kernel.invokeFunction('convertToInteractive',\n",
              "                                                     [key], {});\n",
              "          if (!dataTable) return;\n",
              "\n",
              "          const docLinkHtml = 'Like what you see? Visit the ' +\n",
              "            '<a target=\"_blank\" href=https://colab.research.google.com/notebooks/data_table.ipynb>data table notebook</a>'\n",
              "            + ' to learn more about interactive tables.';\n",
              "          element.innerHTML = '';\n",
              "          dataTable['output_type'] = 'display_data';\n",
              "          await google.colab.output.renderOutput(dataTable, element);\n",
              "          const docLink = document.createElement('div');\n",
              "          docLink.innerHTML = docLinkHtml;\n",
              "          element.appendChild(docLink);\n",
              "        }\n",
              "      </script>\n",
              "    </div>\n",
              "  </div>\n",
              "  "
            ]
          },
          "metadata": {},
          "execution_count": 109
        }
      ]
    },
    {
      "cell_type": "code",
      "source": [
        "t[t['f1'] == t['f1'].max()]"
      ],
      "metadata": {
        "colab": {
          "base_uri": "https://localhost:8080/",
          "height": 81
        },
        "id": "4_XR-CCSOwqI",
        "outputId": "a1300386-6fca-4ac7-e7f2-cebee34ab0e3"
      },
      "execution_count": null,
      "outputs": [
        {
          "output_type": "execute_result",
          "data": {
            "text/plain": [
              "           thr        f1\n",
              "2410  0.478547  0.972982"
            ],
            "text/html": [
              "\n",
              "  <div id=\"df-61e140c9-344b-44f6-807a-e1b7d1a140ae\">\n",
              "    <div class=\"colab-df-container\">\n",
              "      <div>\n",
              "<style scoped>\n",
              "    .dataframe tbody tr th:only-of-type {\n",
              "        vertical-align: middle;\n",
              "    }\n",
              "\n",
              "    .dataframe tbody tr th {\n",
              "        vertical-align: top;\n",
              "    }\n",
              "\n",
              "    .dataframe thead th {\n",
              "        text-align: right;\n",
              "    }\n",
              "</style>\n",
              "<table border=\"1\" class=\"dataframe\">\n",
              "  <thead>\n",
              "    <tr style=\"text-align: right;\">\n",
              "      <th></th>\n",
              "      <th>thr</th>\n",
              "      <th>f1</th>\n",
              "    </tr>\n",
              "  </thead>\n",
              "  <tbody>\n",
              "    <tr>\n",
              "      <th>2410</th>\n",
              "      <td>0.478547</td>\n",
              "      <td>0.972982</td>\n",
              "    </tr>\n",
              "  </tbody>\n",
              "</table>\n",
              "</div>\n",
              "      <button class=\"colab-df-convert\" onclick=\"convertToInteractive('df-61e140c9-344b-44f6-807a-e1b7d1a140ae')\"\n",
              "              title=\"Convert this dataframe to an interactive table.\"\n",
              "              style=\"display:none;\">\n",
              "        \n",
              "  <svg xmlns=\"http://www.w3.org/2000/svg\" height=\"24px\"viewBox=\"0 0 24 24\"\n",
              "       width=\"24px\">\n",
              "    <path d=\"M0 0h24v24H0V0z\" fill=\"none\"/>\n",
              "    <path d=\"M18.56 5.44l.94 2.06.94-2.06 2.06-.94-2.06-.94-.94-2.06-.94 2.06-2.06.94zm-11 1L8.5 8.5l.94-2.06 2.06-.94-2.06-.94L8.5 2.5l-.94 2.06-2.06.94zm10 10l.94 2.06.94-2.06 2.06-.94-2.06-.94-.94-2.06-.94 2.06-2.06.94z\"/><path d=\"M17.41 7.96l-1.37-1.37c-.4-.4-.92-.59-1.43-.59-.52 0-1.04.2-1.43.59L10.3 9.45l-7.72 7.72c-.78.78-.78 2.05 0 2.83L4 21.41c.39.39.9.59 1.41.59.51 0 1.02-.2 1.41-.59l7.78-7.78 2.81-2.81c.8-.78.8-2.07 0-2.86zM5.41 20L4 18.59l7.72-7.72 1.47 1.35L5.41 20z\"/>\n",
              "  </svg>\n",
              "      </button>\n",
              "      \n",
              "  <style>\n",
              "    .colab-df-container {\n",
              "      display:flex;\n",
              "      flex-wrap:wrap;\n",
              "      gap: 12px;\n",
              "    }\n",
              "\n",
              "    .colab-df-convert {\n",
              "      background-color: #E8F0FE;\n",
              "      border: none;\n",
              "      border-radius: 50%;\n",
              "      cursor: pointer;\n",
              "      display: none;\n",
              "      fill: #1967D2;\n",
              "      height: 32px;\n",
              "      padding: 0 0 0 0;\n",
              "      width: 32px;\n",
              "    }\n",
              "\n",
              "    .colab-df-convert:hover {\n",
              "      background-color: #E2EBFA;\n",
              "      box-shadow: 0px 1px 2px rgba(60, 64, 67, 0.3), 0px 1px 3px 1px rgba(60, 64, 67, 0.15);\n",
              "      fill: #174EA6;\n",
              "    }\n",
              "\n",
              "    [theme=dark] .colab-df-convert {\n",
              "      background-color: #3B4455;\n",
              "      fill: #D2E3FC;\n",
              "    }\n",
              "\n",
              "    [theme=dark] .colab-df-convert:hover {\n",
              "      background-color: #434B5C;\n",
              "      box-shadow: 0px 1px 3px 1px rgba(0, 0, 0, 0.15);\n",
              "      filter: drop-shadow(0px 1px 2px rgba(0, 0, 0, 0.3));\n",
              "      fill: #FFFFFF;\n",
              "    }\n",
              "  </style>\n",
              "\n",
              "      <script>\n",
              "        const buttonEl =\n",
              "          document.querySelector('#df-61e140c9-344b-44f6-807a-e1b7d1a140ae button.colab-df-convert');\n",
              "        buttonEl.style.display =\n",
              "          google.colab.kernel.accessAllowed ? 'block' : 'none';\n",
              "\n",
              "        async function convertToInteractive(key) {\n",
              "          const element = document.querySelector('#df-61e140c9-344b-44f6-807a-e1b7d1a140ae');\n",
              "          const dataTable =\n",
              "            await google.colab.kernel.invokeFunction('convertToInteractive',\n",
              "                                                     [key], {});\n",
              "          if (!dataTable) return;\n",
              "\n",
              "          const docLinkHtml = 'Like what you see? Visit the ' +\n",
              "            '<a target=\"_blank\" href=https://colab.research.google.com/notebooks/data_table.ipynb>data table notebook</a>'\n",
              "            + ' to learn more about interactive tables.';\n",
              "          element.innerHTML = '';\n",
              "          dataTable['output_type'] = 'display_data';\n",
              "          await google.colab.output.renderOutput(dataTable, element);\n",
              "          const docLink = document.createElement('div');\n",
              "          docLink.innerHTML = docLinkHtml;\n",
              "          element.appendChild(docLink);\n",
              "        }\n",
              "      </script>\n",
              "    </div>\n",
              "  </div>\n",
              "  "
            ]
          },
          "metadata": {},
          "execution_count": 110
        }
      ]
    },
    {
      "cell_type": "markdown",
      "source": [
        "##ROC"
      ],
      "metadata": {
        "id": "hJUcTacYPQ-2"
      }
    },
    {
      "cell_type": "code",
      "source": [
        "from sklearn.metrics import roc_curve"
      ],
      "metadata": {
        "id": "T5WgkSRJSbYx"
      },
      "execution_count": null,
      "outputs": []
    },
    {
      "cell_type": "code",
      "source": [
        "fprs, tprs, thrs = roc_curve(test['action'],test['score'])"
      ],
      "metadata": {
        "id": "8LeXUkjpSngE"
      },
      "execution_count": null,
      "outputs": []
    },
    {
      "cell_type": "code",
      "source": [
        "roc = pd.DataFrame({'fpr':fprs,'tpr':tprs,'thr':thrs})"
      ],
      "metadata": {
        "id": "brLOZyQ0TWF8"
      },
      "execution_count": null,
      "outputs": []
    },
    {
      "cell_type": "code",
      "source": [
        "roc"
      ],
      "metadata": {
        "colab": {
          "base_uri": "https://localhost:8080/",
          "height": 424
        },
        "id": "Kbw3mx6bTzaK",
        "outputId": "b73d0d27-d417-440e-8a31-69ac051900ec"
      },
      "execution_count": null,
      "outputs": [
        {
          "output_type": "execute_result",
          "data": {
            "text/plain": [
              "          fpr       tpr       thr\n",
              "0    0.000000  0.000000  1.999971\n",
              "1    0.000000  0.000162  0.999971\n",
              "2    0.000000  0.002430  0.999795\n",
              "3    0.000000  0.002753  0.999774\n",
              "4    0.000000  0.004211  0.999697\n",
              "..        ...       ...       ...\n",
              "656  0.981579  0.999676  0.144910\n",
              "657  0.981579  0.999838  0.125475\n",
              "658  0.992105  0.999838  0.093855\n",
              "659  0.992105  1.000000  0.086865\n",
              "660  1.000000  1.000000  0.049128\n",
              "\n",
              "[661 rows x 3 columns]"
            ],
            "text/html": [
              "\n",
              "  <div id=\"df-c00324c5-7f27-41e7-8f5f-b317765eb9b7\">\n",
              "    <div class=\"colab-df-container\">\n",
              "      <div>\n",
              "<style scoped>\n",
              "    .dataframe tbody tr th:only-of-type {\n",
              "        vertical-align: middle;\n",
              "    }\n",
              "\n",
              "    .dataframe tbody tr th {\n",
              "        vertical-align: top;\n",
              "    }\n",
              "\n",
              "    .dataframe thead th {\n",
              "        text-align: right;\n",
              "    }\n",
              "</style>\n",
              "<table border=\"1\" class=\"dataframe\">\n",
              "  <thead>\n",
              "    <tr style=\"text-align: right;\">\n",
              "      <th></th>\n",
              "      <th>fpr</th>\n",
              "      <th>tpr</th>\n",
              "      <th>thr</th>\n",
              "    </tr>\n",
              "  </thead>\n",
              "  <tbody>\n",
              "    <tr>\n",
              "      <th>0</th>\n",
              "      <td>0.000000</td>\n",
              "      <td>0.000000</td>\n",
              "      <td>1.999971</td>\n",
              "    </tr>\n",
              "    <tr>\n",
              "      <th>1</th>\n",
              "      <td>0.000000</td>\n",
              "      <td>0.000162</td>\n",
              "      <td>0.999971</td>\n",
              "    </tr>\n",
              "    <tr>\n",
              "      <th>2</th>\n",
              "      <td>0.000000</td>\n",
              "      <td>0.002430</td>\n",
              "      <td>0.999795</td>\n",
              "    </tr>\n",
              "    <tr>\n",
              "      <th>3</th>\n",
              "      <td>0.000000</td>\n",
              "      <td>0.002753</td>\n",
              "      <td>0.999774</td>\n",
              "    </tr>\n",
              "    <tr>\n",
              "      <th>4</th>\n",
              "      <td>0.000000</td>\n",
              "      <td>0.004211</td>\n",
              "      <td>0.999697</td>\n",
              "    </tr>\n",
              "    <tr>\n",
              "      <th>...</th>\n",
              "      <td>...</td>\n",
              "      <td>...</td>\n",
              "      <td>...</td>\n",
              "    </tr>\n",
              "    <tr>\n",
              "      <th>656</th>\n",
              "      <td>0.981579</td>\n",
              "      <td>0.999676</td>\n",
              "      <td>0.144910</td>\n",
              "    </tr>\n",
              "    <tr>\n",
              "      <th>657</th>\n",
              "      <td>0.981579</td>\n",
              "      <td>0.999838</td>\n",
              "      <td>0.125475</td>\n",
              "    </tr>\n",
              "    <tr>\n",
              "      <th>658</th>\n",
              "      <td>0.992105</td>\n",
              "      <td>0.999838</td>\n",
              "      <td>0.093855</td>\n",
              "    </tr>\n",
              "    <tr>\n",
              "      <th>659</th>\n",
              "      <td>0.992105</td>\n",
              "      <td>1.000000</td>\n",
              "      <td>0.086865</td>\n",
              "    </tr>\n",
              "    <tr>\n",
              "      <th>660</th>\n",
              "      <td>1.000000</td>\n",
              "      <td>1.000000</td>\n",
              "      <td>0.049128</td>\n",
              "    </tr>\n",
              "  </tbody>\n",
              "</table>\n",
              "<p>661 rows × 3 columns</p>\n",
              "</div>\n",
              "      <button class=\"colab-df-convert\" onclick=\"convertToInteractive('df-c00324c5-7f27-41e7-8f5f-b317765eb9b7')\"\n",
              "              title=\"Convert this dataframe to an interactive table.\"\n",
              "              style=\"display:none;\">\n",
              "        \n",
              "  <svg xmlns=\"http://www.w3.org/2000/svg\" height=\"24px\"viewBox=\"0 0 24 24\"\n",
              "       width=\"24px\">\n",
              "    <path d=\"M0 0h24v24H0V0z\" fill=\"none\"/>\n",
              "    <path d=\"M18.56 5.44l.94 2.06.94-2.06 2.06-.94-2.06-.94-.94-2.06-.94 2.06-2.06.94zm-11 1L8.5 8.5l.94-2.06 2.06-.94-2.06-.94L8.5 2.5l-.94 2.06-2.06.94zm10 10l.94 2.06.94-2.06 2.06-.94-2.06-.94-.94-2.06-.94 2.06-2.06.94z\"/><path d=\"M17.41 7.96l-1.37-1.37c-.4-.4-.92-.59-1.43-.59-.52 0-1.04.2-1.43.59L10.3 9.45l-7.72 7.72c-.78.78-.78 2.05 0 2.83L4 21.41c.39.39.9.59 1.41.59.51 0 1.02-.2 1.41-.59l7.78-7.78 2.81-2.81c.8-.78.8-2.07 0-2.86zM5.41 20L4 18.59l7.72-7.72 1.47 1.35L5.41 20z\"/>\n",
              "  </svg>\n",
              "      </button>\n",
              "      \n",
              "  <style>\n",
              "    .colab-df-container {\n",
              "      display:flex;\n",
              "      flex-wrap:wrap;\n",
              "      gap: 12px;\n",
              "    }\n",
              "\n",
              "    .colab-df-convert {\n",
              "      background-color: #E8F0FE;\n",
              "      border: none;\n",
              "      border-radius: 50%;\n",
              "      cursor: pointer;\n",
              "      display: none;\n",
              "      fill: #1967D2;\n",
              "      height: 32px;\n",
              "      padding: 0 0 0 0;\n",
              "      width: 32px;\n",
              "    }\n",
              "\n",
              "    .colab-df-convert:hover {\n",
              "      background-color: #E2EBFA;\n",
              "      box-shadow: 0px 1px 2px rgba(60, 64, 67, 0.3), 0px 1px 3px 1px rgba(60, 64, 67, 0.15);\n",
              "      fill: #174EA6;\n",
              "    }\n",
              "\n",
              "    [theme=dark] .colab-df-convert {\n",
              "      background-color: #3B4455;\n",
              "      fill: #D2E3FC;\n",
              "    }\n",
              "\n",
              "    [theme=dark] .colab-df-convert:hover {\n",
              "      background-color: #434B5C;\n",
              "      box-shadow: 0px 1px 3px 1px rgba(0, 0, 0, 0.15);\n",
              "      filter: drop-shadow(0px 1px 2px rgba(0, 0, 0, 0.3));\n",
              "      fill: #FFFFFF;\n",
              "    }\n",
              "  </style>\n",
              "\n",
              "      <script>\n",
              "        const buttonEl =\n",
              "          document.querySelector('#df-c00324c5-7f27-41e7-8f5f-b317765eb9b7 button.colab-df-convert');\n",
              "        buttonEl.style.display =\n",
              "          google.colab.kernel.accessAllowed ? 'block' : 'none';\n",
              "\n",
              "        async function convertToInteractive(key) {\n",
              "          const element = document.querySelector('#df-c00324c5-7f27-41e7-8f5f-b317765eb9b7');\n",
              "          const dataTable =\n",
              "            await google.colab.kernel.invokeFunction('convertToInteractive',\n",
              "                                                     [key], {});\n",
              "          if (!dataTable) return;\n",
              "\n",
              "          const docLinkHtml = 'Like what you see? Visit the ' +\n",
              "            '<a target=\"_blank\" href=https://colab.research.google.com/notebooks/data_table.ipynb>data table notebook</a>'\n",
              "            + ' to learn more about interactive tables.';\n",
              "          element.innerHTML = '';\n",
              "          dataTable['output_type'] = 'display_data';\n",
              "          await google.colab.output.renderOutput(dataTable, element);\n",
              "          const docLink = document.createElement('div');\n",
              "          docLink.innerHTML = docLinkHtml;\n",
              "          element.appendChild(docLink);\n",
              "        }\n",
              "      </script>\n",
              "    </div>\n",
              "  </div>\n",
              "  "
            ]
          },
          "metadata": {},
          "execution_count": 114
        }
      ]
    },
    {
      "cell_type": "code",
      "source": [
        "roc.set_index('fpr')['tpr'].plot(figsize=(6,6))"
      ],
      "metadata": {
        "colab": {
          "base_uri": "https://localhost:8080/",
          "height": 405
        },
        "id": "uo1mnFCDT0JP",
        "outputId": "4ca26739-b406-4b4d-c7d9-e0c692552742"
      },
      "execution_count": null,
      "outputs": [
        {
          "output_type": "execute_result",
          "data": {
            "text/plain": [
              "<matplotlib.axes._subplots.AxesSubplot at 0x7f117bbe7fd0>"
            ]
          },
          "metadata": {},
          "execution_count": 115
        },
        {
          "output_type": "display_data",
          "data": {
            "text/plain": [
              "<Figure size 432x432 with 1 Axes>"
            ],
            "image/png": "[encoded data removed]"
          },
          "metadata": {}
        }
      ]
    },
    {
      "cell_type": "code",
      "source": [
        "roc['random'] = roc['fpr']"
      ],
      "metadata": {
        "id": "Ew_c7IIclxp0"
      },
      "execution_count": null,
      "outputs": []
    },
    {
      "cell_type": "code",
      "source": [
        "roc['ideal'] = 1"
      ],
      "metadata": {
        "id": "EsUaGpgVmEiG"
      },
      "execution_count": null,
      "outputs": []
    },
    {
      "cell_type": "code",
      "source": [
        "roc.plot(x='fpr',y=['tpr','random','ideal'],figsize=(6,6),grid=True)"
      ],
      "metadata": {
        "colab": {
          "base_uri": "https://localhost:8080/",
          "height": 405
        },
        "id": "eo4PXsd0UZqE",
        "outputId": "5ae79eea-6384-43c5-9e73-7c1b5bcf73a0"
      },
      "execution_count": null,
      "outputs": [
        {
          "output_type": "execute_result",
          "data": {
            "text/plain": [
              "<matplotlib.axes._subplots.AxesSubplot at 0x7f117b9e4390>"
            ]
          },
          "metadata": {},
          "execution_count": 118
        },
        {
          "output_type": "display_data",
          "data": {
            "text/plain": [
              "<Figure size 432x432 with 1 Axes>"
            ],
            "image/png": "[encoded data removed]"
          },
          "metadata": {}
        }
      ]
    },
    {
      "cell_type": "markdown",
      "source": [
        "##AUC"
      ],
      "metadata": {
        "id": "LffAcdozVE9i"
      }
    },
    {
      "cell_type": "code",
      "source": [
        "from sklearn.metrics import roc_auc_score"
      ],
      "metadata": {
        "id": "m6QbvvdrORT_"
      },
      "execution_count": null,
      "outputs": []
    },
    {
      "cell_type": "code",
      "source": [
        "roc_auc_score(test['action'],test['score'])"
      ],
      "metadata": {
        "colab": {
          "base_uri": "https://localhost:8080/"
        },
        "id": "d-7XjSvnOyBM",
        "outputId": "505bcead-46a5-4a98-9529-62e0271e89e5"
      },
      "execution_count": null,
      "outputs": [
        {
          "output_type": "execute_result",
          "data": {
            "text/plain": [
              "0.833485499462943"
            ]
          },
          "metadata": {},
          "execution_count": 120
        }
      ]
    },
    {
      "cell_type": "code",
      "execution_count": null,
      "metadata": {
        "id": "45xYlph8Rcqt"
      },
      "outputs": [],
      "source": [
        "X = ['role_family','role_family_desc','role_deptname','resource','mgr_id','role_rollup_1','role_rollup_2','role_title','role_code']\n",
        "y = ['action']"
      ]
    },
    {
      "cell_type": "code",
      "execution_count": null,
      "metadata": {
        "id": "xqYPiK2HRcqz"
      },
      "outputs": [],
      "source": [
        "params = {'verbose':100,\n",
        "          'eval_metric': 'AUC',\n",
        "          'random_seed':42,\n",
        "          'learning_rate':0.10}"
      ]
    },
    {
      "cell_type": "code",
      "execution_count": null,
      "metadata": {
        "id": "aQ1uo6XFRcq2"
      },
      "outputs": [],
      "source": [
        "model = CatBoostClassifier(**params)"
      ]
    },
    {
      "cell_type": "code",
      "execution_count": null,
      "metadata": {
        "colab": {
          "base_uri": "https://localhost:8080/"
        },
        "outputId": "b3c3b6df-3396-4775-933a-256ae34c05a1",
        "id": "7ZCP_9EeRcq5"
      },
      "outputs": [
        {
          "output_type": "stream",
          "name": "stdout",
          "text": [
            "0:\ttest: 0.5765806\tbest: 0.5765806 (0)\ttotal: 9.37ms\tremaining: 9.36s\n",
            "100:\ttest: 0.7715732\tbest: 0.7715732 (100)\ttotal: 2.29s\tremaining: 20.4s\n",
            "200:\ttest: 0.7969083\tbest: 0.7970720 (198)\ttotal: 4.74s\tremaining: 18.9s\n",
            "300:\ttest: 0.8045643\tbest: 0.8046690 (296)\ttotal: 6.68s\tremaining: 15.5s\n",
            "400:\ttest: 0.8157361\tbest: 0.8158241 (393)\ttotal: 9.27s\tremaining: 13.8s\n",
            "500:\ttest: 0.8224783\tbest: 0.8224783 (500)\ttotal: 11.2s\tremaining: 11.2s\n",
            "600:\ttest: 0.8259618\tbest: 0.8264177 (599)\ttotal: 12.9s\tremaining: 8.55s\n",
            "700:\ttest: 0.8273453\tbest: 0.8275556 (652)\ttotal: 13.8s\tremaining: 5.87s\n",
            "800:\ttest: 0.8280491\tbest: 0.8283905 (781)\ttotal: 14.6s\tremaining: 3.63s\n",
            "900:\ttest: 0.8269873\tbest: 0.8283905 (781)\ttotal: 15.5s\tremaining: 1.7s\n",
            "999:\ttest: 0.8261387\tbest: 0.8283905 (781)\ttotal: 16.3s\tremaining: 0us\n",
            "\n",
            "bestTest = 0.8283905013\n",
            "bestIteration = 781\n",
            "\n",
            "Shrink model to first 782 iterations.\n"
          ]
        },
        {
          "output_type": "execute_result",
          "data": {
            "text/plain": [
              "<catboost.core.CatBoostClassifier at 0x7f117b9982d0>"
            ]
          },
          "metadata": {},
          "execution_count": 124
        }
      ],
      "source": [
        "model.fit(train[X],train[y],eval_set=(val[X],val[y]))"
      ]
    }
  ],
  "metadata": {
    "colab": {
      "collapsed_sections": [],
      "name": "amazon.classification",
      "provenance": [],
      "authorship_tag": "ABX9TyOgtyYvwBUNknQ6IyVg9rwf",
      "include_colab_link": true
    },
    "kernelspec": {
      "display_name": "Python 3",
      "name": "python3"
    },
    "language_info": {
      "name": "python"
    },
    "widgets": {
      "application/vnd.jupyter.widget-state+json": {
        "c422443908004e7b87aac934b0ae7619": {
          "model_module": "@jupyter-widgets/controls",
          "model_name": "HBoxModel",
          "model_module_version": "1.5.0",
          "state": {
            "_dom_classes": [],
            "_model_module": "@jupyter-widgets/controls",
            "_model_module_version": "1.5.0",
            "_model_name": "HBoxModel",
            "_view_count": null,
            "_view_module": "@jupyter-widgets/controls",
            "_view_module_version": "1.5.0",
            "_view_name": "HBoxView",
            "box_style": "",
            "children": [
              "IPY_MODEL_3a1d202d4022421693b2d2c0df90a3e8",
              "IPY_MODEL_32dfe7a1812e421385a98d3315f2dd36",
              "IPY_MODEL_4aeda1b7222e4b0dbf8a311a0d89dd88"
            ],
            "layout": "IPY_MODEL_cf306d38208441efb13f494ea93c1e10"
          }
        },
        "3a1d202d4022421693b2d2c0df90a3e8": {
          "model_module": "@jupyter-widgets/controls",
          "model_name": "HTMLModel",
          "model_module_version": "1.5.0",
          "state": {
            "_dom_classes": [],
            "_model_module": "@jupyter-widgets/controls",
            "_model_module_version": "1.5.0",
            "_model_name": "HTMLModel",
            "_view_count": null,
            "_view_module": "@jupyter-widgets/controls",
            "_view_module_version": "1.5.0",
            "_view_name": "HTMLView",
            "description": "",
            "description_tooltip": null,
            "layout": "IPY_MODEL_0dedd3c39dc0446ab62b88d7b2772e0b",
            "placeholder": "​",
            "style": "IPY_MODEL_fd9e0c18663e4bbb88803a7984f663c8",
            "value": "100%"
          }
        },
        "32dfe7a1812e421385a98d3315f2dd36": {
          "model_module": "@jupyter-widgets/controls",
          "model_name": "FloatProgressModel",
          "model_module_version": "1.5.0",
          "state": {
            "_dom_classes": [],
            "_model_module": "@jupyter-widgets/controls",
            "_model_module_version": "1.5.0",
            "_model_name": "FloatProgressModel",
            "_view_count": null,
            "_view_module": "@jupyter-widgets/controls",
            "_view_module_version": "1.5.0",
            "_view_name": "ProgressView",
            "bar_style": "success",
            "description": "",
            "description_tooltip": null,
            "layout": "IPY_MODEL_4be6dfacce5e4d6689af8b82c92d1d33",
            "max": 6484,
            "min": 0,
            "orientation": "horizontal",
            "style": "IPY_MODEL_632d3f93406e4fd19e0838075e672521",
            "value": 6484
          }
        },
        "4aeda1b7222e4b0dbf8a311a0d89dd88": {
          "model_module": "@jupyter-widgets/controls",
          "model_name": "HTMLModel",
          "model_module_version": "1.5.0",
          "state": {
            "_dom_classes": [],
            "_model_module": "@jupyter-widgets/controls",
            "_model_module_version": "1.5.0",
            "_model_name": "HTMLModel",
            "_view_count": null,
            "_view_module": "@jupyter-widgets/controls",
            "_view_module_version": "1.5.0",
            "_view_name": "HTMLView",
            "description": "",
            "description_tooltip": null,
            "layout": "IPY_MODEL_4ae2c431161245a8b32fdcdcb4507ac5",
            "placeholder": "​",
            "style": "IPY_MODEL_93cd42572f264f8f833a60f15f8755aa",
            "value": " 6484/6484 [00:27&lt;00:00, 238.24it/s]"
          }
        },
        "cf306d38208441efb13f494ea93c1e10": {
          "model_module": "@jupyter-widgets/base",
          "model_name": "LayoutModel",
          "model_module_version": "1.2.0",
          "state": {
            "_model_module": "@jupyter-widgets/base",
            "_model_module_version": "1.2.0",
            "_model_name": "LayoutModel",
            "_view_count": null,
            "_view_module": "@jupyter-widgets/base",
            "_view_module_version": "1.2.0",
            "_view_name": "LayoutView",
            "align_content": null,
            "align_items": null,
            "align_self": null,
            "border": null,
            "bottom": null,
            "display": null,
            "flex": null,
            "flex_flow": null,
            "grid_area": null,
            "grid_auto_columns": null,
            "grid_auto_flow": null,
            "grid_auto_rows": null,
            "grid_column": null,
            "grid_gap": null,
            "grid_row": null,
            "grid_template_areas": null,
            "grid_template_columns": null,
            "grid_template_rows": null,
            "height": null,
            "justify_content": null,
            "justify_items": null,
            "left": null,
            "margin": null,
            "max_height": null,
            "max_width": null,
            "min_height": null,
            "min_width": null,
            "object_fit": null,
            "object_position": null,
            "order": null,
            "overflow": null,
            "overflow_x": null,
            "overflow_y": null,
            "padding": null,
            "right": null,
            "top": null,
            "visibility": null,
            "width": null
          }
        },
        "0dedd3c39dc0446ab62b88d7b2772e0b": {
          "model_module": "@jupyter-widgets/base",
          "model_name": "LayoutModel",
          "model_module_version": "1.2.0",
          "state": {
            "_model_module": "@jupyter-widgets/base",
            "_model_module_version": "1.2.0",
            "_model_name": "LayoutModel",
            "_view_count": null,
            "_view_module": "@jupyter-widgets/base",
            "_view_module_version": "1.2.0",
            "_view_name": "LayoutView",
            "align_content": null,
            "align_items": null,
            "align_self": null,
            "border": null,
            "bottom": null,
            "display": null,
            "flex": null,
            "flex_flow": null,
            "grid_area": null,
            "grid_auto_columns": null,
            "grid_auto_flow": null,
            "grid_auto_rows": null,
            "grid_column": null,
            "grid_gap": null,
            "grid_row": null,
            "grid_template_areas": null,
            "grid_template_columns": null,
            "grid_template_rows": null,
            "height": null,
            "justify_content": null,
            "justify_items": null,
            "left": null,
            "margin": null,
            "max_height": null,
            "max_width": null,
            "min_height": null,
            "min_width": null,
            "object_fit": null,
            "object_position": null,
            "order": null,
            "overflow": null,
            "overflow_x": null,
            "overflow_y": null,
            "padding": null,
            "right": null,
            "top": null,
            "visibility": null,
            "width": null
          }
        },
        "fd9e0c18663e4bbb88803a7984f663c8": {
          "model_module": "@jupyter-widgets/controls",
          "model_name": "DescriptionStyleModel",
          "model_module_version": "1.5.0",
          "state": {
            "_model_module": "@jupyter-widgets/controls",
            "_model_module_version": "1.5.0",
            "_model_name": "DescriptionStyleModel",
            "_view_count": null,
            "_view_module": "@jupyter-widgets/base",
            "_view_module_version": "1.2.0",
            "_view_name": "StyleView",
            "description_width": ""
          }
        },
        "4be6dfacce5e4d6689af8b82c92d1d33": {
          "model_module": "@jupyter-widgets/base",
          "model_name": "LayoutModel",
          "model_module_version": "1.2.0",
          "state": {
            "_model_module": "@jupyter-widgets/base",
            "_model_module_version": "1.2.0",
            "_model_name": "LayoutModel",
            "_view_count": null,
            "_view_module": "@jupyter-widgets/base",
            "_view_module_version": "1.2.0",
            "_view_name": "LayoutView",
            "align_content": null,
            "align_items": null,
            "align_self": null,
            "border": null,
            "bottom": null,
            "display": null,
            "flex": null,
            "flex_flow": null,
            "grid_area": null,
            "grid_auto_columns": null,
            "grid_auto_flow": null,
            "grid_auto_rows": null,
            "grid_column": null,
            "grid_gap": null,
            "grid_row": null,
            "grid_template_areas": null,
            "grid_template_columns": null,
            "grid_template_rows": null,
            "height": null,
            "justify_content": null,
            "justify_items": null,
            "left": null,
            "margin": null,
            "max_height": null,
            "max_width": null,
            "min_height": null,
            "min_width": null,
            "object_fit": null,
            "object_position": null,
            "order": null,
            "overflow": null,
            "overflow_x": null,
            "overflow_y": null,
            "padding": null,
            "right": null,
            "top": null,
            "visibility": null,
            "width": null
          }
        },
        "632d3f93406e4fd19e0838075e672521": {
          "model_module": "@jupyter-widgets/controls",
          "model_name": "ProgressStyleModel",
          "model_module_version": "1.5.0",
          "state": {
            "_model_module": "@jupyter-widgets/controls",
            "_model_module_version": "1.5.0",
            "_model_name": "ProgressStyleModel",
            "_view_count": null,
            "_view_module": "@jupyter-widgets/base",
            "_view_module_version": "1.2.0",
            "_view_name": "StyleView",
            "bar_color": null,
            "description_width": ""
          }
        },
        "4ae2c431161245a8b32fdcdcb4507ac5": {
          "model_module": "@jupyter-widgets/base",
          "model_name": "LayoutModel",
          "model_module_version": "1.2.0",
          "state": {
            "_model_module": "@jupyter-widgets/base",
            "_model_module_version": "1.2.0",
            "_model_name": "LayoutModel",
            "_view_count": null,
            "_view_module": "@jupyter-widgets/base",
            "_view_module_version": "1.2.0",
            "_view_name": "LayoutView",
            "align_content": null,
            "align_items": null,
            "align_self": null,
            "border": null,
            "bottom": null,
            "display": null,
            "flex": null,
            "flex_flow": null,
            "grid_area": null,
            "grid_auto_columns": null,
            "grid_auto_flow": null,
            "grid_auto_rows": null,
            "grid_column": null,
            "grid_gap": null,
            "grid_row": null,
            "grid_template_areas": null,
            "grid_template_columns": null,
            "grid_template_rows": null,
            "height": null,
            "justify_content": null,
            "justify_items": null,
            "left": null,
            "margin": null,
            "max_height": null,
            "max_width": null,
            "min_height": null,
            "min_width": null,
            "object_fit": null,
            "object_position": null,
            "order": null,
            "overflow": null,
            "overflow_x": null,
            "overflow_y": null,
            "padding": null,
            "right": null,
            "top": null,
            "visibility": null,
            "width": null
          }
        },
        "93cd42572f264f8f833a60f15f8755aa": {
          "model_module": "@jupyter-widgets/controls",
          "model_name": "DescriptionStyleModel",
          "model_module_version": "1.5.0",
          "state": {
            "_model_module": "@jupyter-widgets/controls",
            "_model_module_version": "1.5.0",
            "_model_name": "DescriptionStyleModel",
            "_view_count": null,
            "_view_module": "@jupyter-widgets/base",
            "_view_module_version": "1.2.0",
            "_view_name": "StyleView",
            "description_width": ""
          }
        }
      }
    }
  },
  "nbformat": 4,
  "nbformat_minor": 0
}